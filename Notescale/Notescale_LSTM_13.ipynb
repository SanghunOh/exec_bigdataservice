{
  "nbformat": 4,
  "nbformat_minor": 0,
  "metadata": {
    "colab": {
      "name": "Notescale_LSTM.ipynb",
      "provenance": [],
      "collapsed_sections": [],
      "authorship_tag": "ABX9TyN9AVeABHAClEDDuvvmjtyY"
    },
    "kernelspec": {
      "name": "python3",
      "display_name": "Python 3"
    },
    "language_info": {
      "name": "python"
    }
  },
  "cells": [
    {
      "cell_type": "code",
      "metadata": {
        "id": "8vo5sG57lBo8"
      },
      "source": [
        "note_seq = ['g8', 'e8', 'e4', 'f8', 'd8', 'd4', 'c8', 'd8', 'e8', 'f8', 'g8', 'g8', 'g4',\n",
        "       'g8', 'e8', 'e8', 'e8', 'f8', 'd8', 'd4', 'c8', 'e8', 'g8', 'g8', 'e8', 'e8', 'e4',\n",
        "       'd8', 'd8', 'd8', 'd8', 'd8', 'e8', 'f4', 'e8', 'e8', 'e8', 'e8', 'e8', 'f8', 'g4',\n",
        "       'g8', 'e8', 'e4', 'f8', 'd8', 'd4', 'c8', 'e8', 'g8', 'g8', 'e8', 'e8', 'e4']"
      ],
      "execution_count": 1,
      "outputs": []
    },
    {
      "cell_type": "code",
      "metadata": {
        "colab": {
          "base_uri": "https://localhost:8080/"
        },
        "id": "r-i_UBR3n-6L",
        "outputId": "218af404-418b-484d-be31-dec1eb217c78"
      },
      "source": [
        "note_seq[0:5]"
      ],
      "execution_count": 2,
      "outputs": [
        {
          "output_type": "execute_result",
          "data": {
            "text/plain": [
              "['g8', 'e8', 'e4', 'f8', 'd8']"
            ]
          },
          "metadata": {
            "tags": []
          },
          "execution_count": 2
        }
      ]
    },
    {
      "cell_type": "code",
      "metadata": {
        "id": "kKGvqiIzlid5"
      },
      "source": [
        "code2idx = {'c4':0, 'd4':1, 'e4':2, 'f4':3, 'g4':4, 'a4':5, 'b4':6,\n",
        "            'c8':7, 'd8':8, 'e8':9, 'f8':10, 'g8':11, 'a8':12, 'b8':13}"
      ],
      "execution_count": 3,
      "outputs": []
    },
    {
      "cell_type": "code",
      "metadata": {
        "colab": {
          "base_uri": "https://localhost:8080/"
        },
        "id": "Z-qC9DCCnf2N",
        "outputId": "ec780fc7-8b0c-44e1-f430-4846a2bd6a87"
      },
      "source": [
        "range(len(note_seq)-4)"
      ],
      "execution_count": 11,
      "outputs": [
        {
          "output_type": "execute_result",
          "data": {
            "text/plain": [
              "range(0, 50)"
            ]
          },
          "metadata": {
            "tags": []
          },
          "execution_count": 11
        }
      ]
    },
    {
      "cell_type": "code",
      "metadata": {
        "colab": {
          "base_uri": "https://localhost:8080/"
        },
        "id": "ijg016qbljAS",
        "outputId": "f14dee79-0196-47fa-dc64-d1b02df608c9"
      },
      "source": [
        "dataset = list()\n",
        "for i in range(len(note_seq)-4):\n",
        "  subset = note_seq[i:i+5]\n",
        "  items = list()\n",
        "  for item in subset:\n",
        "    items.append(code2idx[item])\n",
        "  dataset.append(items)\n",
        "\n",
        "print(dataset)"
      ],
      "execution_count": 5,
      "outputs": [
        {
          "output_type": "stream",
          "text": [
            "[[11, 9, 2, 10, 8], [9, 2, 10, 8, 1], [2, 10, 8, 1, 7], [10, 8, 1, 7, 8], [8, 1, 7, 8, 9], [1, 7, 8, 9, 10], [7, 8, 9, 10, 11], [8, 9, 10, 11, 11], [9, 10, 11, 11, 4], [10, 11, 11, 4, 11], [11, 11, 4, 11, 9], [11, 4, 11, 9, 9], [4, 11, 9, 9, 9], [11, 9, 9, 9, 10], [9, 9, 9, 10, 8], [9, 9, 10, 8, 1], [9, 10, 8, 1, 7], [10, 8, 1, 7, 9], [8, 1, 7, 9, 11], [1, 7, 9, 11, 11], [7, 9, 11, 11, 9], [9, 11, 11, 9, 9], [11, 11, 9, 9, 2], [11, 9, 9, 2, 8], [9, 9, 2, 8, 8], [9, 2, 8, 8, 8], [2, 8, 8, 8, 8], [8, 8, 8, 8, 8], [8, 8, 8, 8, 9], [8, 8, 8, 9, 3], [8, 8, 9, 3, 9], [8, 9, 3, 9, 9], [9, 3, 9, 9, 9], [3, 9, 9, 9, 9], [9, 9, 9, 9, 9], [9, 9, 9, 9, 10], [9, 9, 9, 10, 4], [9, 9, 10, 4, 11], [9, 10, 4, 11, 9], [10, 4, 11, 9, 2], [4, 11, 9, 2, 10], [11, 9, 2, 10, 8], [9, 2, 10, 8, 1], [2, 10, 8, 1, 7], [10, 8, 1, 7, 9], [8, 1, 7, 9, 11], [1, 7, 9, 11, 11], [7, 9, 11, 11, 9], [9, 11, 11, 9, 9], [11, 11, 9, 9, 2]]\n"
          ],
          "name": "stdout"
        }
      ]
    },
    {
      "cell_type": "code",
      "metadata": {
        "id": "n-eFA36jV0U3"
      },
      "source": [
        "import numpy as np"
      ],
      "execution_count": 6,
      "outputs": []
    },
    {
      "cell_type": "code",
      "metadata": {
        "id": "RtHbropsV4I-"
      },
      "source": [
        "datasets = np.array(dataset)"
      ],
      "execution_count": 7,
      "outputs": []
    },
    {
      "cell_type": "code",
      "metadata": {
        "id": "tXcYlWXiozZq",
        "colab": {
          "base_uri": "https://localhost:8080/"
        },
        "outputId": "1e77861f-747f-493c-a868-4505e7458ab2"
      },
      "source": [
        "x_train = datasets[:,0:4]\n",
        "x_train.shape,"
      ],
      "execution_count": 8,
      "outputs": [
        {
          "output_type": "execute_result",
          "data": {
            "text/plain": [
              "((50, 4),)"
            ]
          },
          "metadata": {
            "tags": []
          },
          "execution_count": 8
        }
      ]
    },
    {
      "cell_type": "code",
      "metadata": {
        "colab": {
          "base_uri": "https://localhost:8080/"
        },
        "id": "WiXE-rTCV9hM",
        "outputId": "17939402-d809-42be-e009-ca871acc9239"
      },
      "source": [
        "y_train = datasets[:,4]\n",
        "y_train.shape, #y_train"
      ],
      "execution_count": 9,
      "outputs": [
        {
          "output_type": "execute_result",
          "data": {
            "text/plain": [
              "((50,),)"
            ]
          },
          "metadata": {
            "tags": []
          },
          "execution_count": 9
        }
      ]
    },
    {
      "cell_type": "code",
      "metadata": {
        "colab": {
          "base_uri": "https://localhost:8080/"
        },
        "id": "A5VmC_ThWLbE",
        "outputId": "0a201618-93c2-42bd-d9b8-1c9c27152324"
      },
      "source": [
        "len(code2idx)"
      ],
      "execution_count": 12,
      "outputs": [
        {
          "output_type": "execute_result",
          "data": {
            "text/plain": [
              "14"
            ]
          },
          "metadata": {
            "tags": []
          },
          "execution_count": 12
        }
      ]
    },
    {
      "cell_type": "code",
      "metadata": {
        "colab": {
          "base_uri": "https://localhost:8080/"
        },
        "id": "hmcKmthPWRis",
        "outputId": "d4755522-141b-4307-e128-b76cb5776a13"
      },
      "source": [
        "x_train = x_train / 14 # len(code2idx)\n",
        "x_train[0]"
      ],
      "execution_count": 14,
      "outputs": [
        {
          "output_type": "execute_result",
          "data": {
            "text/plain": [
              "array([0.05612245, 0.04591837, 0.01020408, 0.05102041])"
            ]
          },
          "metadata": {
            "tags": []
          },
          "execution_count": 14
        }
      ]
    },
    {
      "cell_type": "markdown",
      "metadata": {
        "id": "YSpCRSl6XluY"
      },
      "source": [
        "# make model"
      ]
    },
    {
      "cell_type": "code",
      "metadata": {
        "id": "1irvMgcKXiyO"
      },
      "source": [
        "import tensorflow as tf"
      ],
      "execution_count": 15,
      "outputs": []
    },
    {
      "cell_type": "code",
      "metadata": {
        "colab": {
          "base_uri": "https://localhost:8080/"
        },
        "id": "Us1qE_uHd69S",
        "outputId": "42ad291c-7447-4639-f630-ed2d1fea0ee9"
      },
      "source": [
        "x_train.shape, x_train[0]"
      ],
      "execution_count": 16,
      "outputs": [
        {
          "output_type": "execute_result",
          "data": {
            "text/plain": [
              "((50, 4), array([0.05612245, 0.04591837, 0.01020408, 0.05102041]))"
            ]
          },
          "metadata": {
            "tags": []
          },
          "execution_count": 16
        }
      ]
    },
    {
      "cell_type": "code",
      "metadata": {
        "colab": {
          "base_uri": "https://localhost:8080/"
        },
        "id": "-ii4cA3od9W2",
        "outputId": "8e2d1a6d-7752-4359-c484-065a47ba5d4a"
      },
      "source": [
        "X_train = np.reshape(x_train, (-1, 4, 1))\n",
        "X_train.shape, X_train[0]"
      ],
      "execution_count": 17,
      "outputs": [
        {
          "output_type": "execute_result",
          "data": {
            "text/plain": [
              "((50, 4, 1), array([[0.05612245],\n",
              "        [0.04591837],\n",
              "        [0.01020408],\n",
              "        [0.05102041]]))"
            ]
          },
          "metadata": {
            "tags": []
          },
          "execution_count": 17
        }
      ]
    },
    {
      "cell_type": "code",
      "metadata": {
        "colab": {
          "base_uri": "https://localhost:8080/"
        },
        "id": "syPMEzUUgrVS",
        "outputId": "8b66c4b9-30a9-497c-c0f2-20d0a9bfe089"
      },
      "source": [
        "np.unique(y_train)"
      ],
      "execution_count": 18,
      "outputs": [
        {
          "output_type": "execute_result",
          "data": {
            "text/plain": [
              "array([ 1,  2,  3,  4,  7,  8,  9, 10, 11])"
            ]
          },
          "metadata": {
            "tags": []
          },
          "execution_count": 18
        }
      ]
    },
    {
      "cell_type": "code",
      "metadata": {
        "colab": {
          "base_uri": "https://localhost:8080/"
        },
        "id": "rcf4xs6TX209",
        "outputId": "75abd6de-5afb-4abe-a032-bdd25c40115d"
      },
      "source": [
        "model = tf.keras.models.Sequential()\n",
        "\n",
        "model.add(tf.keras.Input(shape=(4, 1)))\n",
        "model.add(tf.keras.layers.LSTM(128)) # (batch_size, timesteps, input_dim)\n",
        "model.add(tf.keras.layers.Dense(14, activation='softmax'))\n",
        "\n",
        "model.compile(optimizer='adam', loss='sparse_categorical_crossentropy', metrics=['accuracy'])"
      ],
      "execution_count": 19,
      "outputs": [
        {
          "output_type": "stream",
          "text": [
            "WARNING:tensorflow:Please add `keras.layers.InputLayer` instead of `keras.Input` to Sequential model. `keras.Input` is intended to be used by Functional model.\n"
          ],
          "name": "stdout"
        }
      ]
    },
    {
      "cell_type": "code",
      "metadata": {
        "colab": {
          "base_uri": "https://localhost:8080/"
        },
        "id": "wasTRjWUhqwX",
        "outputId": "3ed370b1-9cbc-4f76-a145-2bb1b53a59e4"
      },
      "source": [
        "hist = model.fit(X_train, y_train, epochs=500, batch_size=10)"
      ],
      "execution_count": 65,
      "outputs": [
        {
          "output_type": "stream",
          "text": [
            "Epoch 1/500\n",
            "5/5 [==============================] - 0s 7ms/step - loss: 1.0159 - accuracy: 0.6000\n",
            "Epoch 2/500\n",
            "5/5 [==============================] - 0s 6ms/step - loss: 1.0487 - accuracy: 0.5400\n",
            "Epoch 3/500\n",
            "5/5 [==============================] - 0s 6ms/step - loss: 1.0539 - accuracy: 0.6000\n",
            "Epoch 4/500\n",
            "5/5 [==============================] - 0s 6ms/step - loss: 1.0647 - accuracy: 0.5800\n",
            "Epoch 5/500\n",
            "5/5 [==============================] - 0s 6ms/step - loss: 1.0437 - accuracy: 0.5600\n",
            "Epoch 6/500\n",
            "5/5 [==============================] - 0s 7ms/step - loss: 1.0990 - accuracy: 0.5800\n",
            "Epoch 7/500\n",
            "5/5 [==============================] - 0s 6ms/step - loss: 1.0157 - accuracy: 0.6000\n",
            "Epoch 8/500\n",
            "5/5 [==============================] - 0s 7ms/step - loss: 1.0284 - accuracy: 0.6000\n",
            "Epoch 9/500\n",
            "5/5 [==============================] - 0s 7ms/step - loss: 1.0358 - accuracy: 0.5800\n",
            "Epoch 10/500\n",
            "5/5 [==============================] - 0s 7ms/step - loss: 1.0401 - accuracy: 0.5600\n",
            "Epoch 11/500\n",
            "5/5 [==============================] - 0s 6ms/step - loss: 1.0170 - accuracy: 0.5800\n",
            "Epoch 12/500\n",
            "5/5 [==============================] - 0s 6ms/step - loss: 1.0446 - accuracy: 0.6000\n",
            "Epoch 13/500\n",
            "5/5 [==============================] - 0s 6ms/step - loss: 1.0181 - accuracy: 0.6000\n",
            "Epoch 14/500\n",
            "5/5 [==============================] - 0s 7ms/step - loss: 1.0251 - accuracy: 0.6000\n",
            "Epoch 15/500\n",
            "5/5 [==============================] - 0s 7ms/step - loss: 1.0309 - accuracy: 0.5800\n",
            "Epoch 16/500\n",
            "5/5 [==============================] - 0s 8ms/step - loss: 1.0225 - accuracy: 0.6000\n",
            "Epoch 17/500\n",
            "5/5 [==============================] - 0s 6ms/step - loss: 1.0402 - accuracy: 0.6000\n",
            "Epoch 18/500\n",
            "5/5 [==============================] - 0s 6ms/step - loss: 1.0241 - accuracy: 0.6200\n",
            "Epoch 19/500\n",
            "5/5 [==============================] - 0s 8ms/step - loss: 1.0441 - accuracy: 0.5800\n",
            "Epoch 20/500\n",
            "5/5 [==============================] - 0s 7ms/step - loss: 1.0689 - accuracy: 0.5800\n",
            "Epoch 21/500\n",
            "5/5 [==============================] - 0s 6ms/step - loss: 1.0939 - accuracy: 0.5400\n",
            "Epoch 22/500\n",
            "5/5 [==============================] - 0s 6ms/step - loss: 1.0878 - accuracy: 0.5400\n",
            "Epoch 23/500\n",
            "5/5 [==============================] - 0s 7ms/step - loss: 1.0516 - accuracy: 0.5800\n",
            "Epoch 24/500\n",
            "5/5 [==============================] - 0s 8ms/step - loss: 1.0813 - accuracy: 0.5400\n",
            "Epoch 25/500\n",
            "5/5 [==============================] - 0s 9ms/step - loss: 1.0866 - accuracy: 0.5400\n",
            "Epoch 26/500\n",
            "5/5 [==============================] - 0s 6ms/step - loss: 1.0536 - accuracy: 0.5000\n",
            "Epoch 27/500\n",
            "5/5 [==============================] - 0s 8ms/step - loss: 1.0551 - accuracy: 0.5600\n",
            "Epoch 28/500\n",
            "5/5 [==============================] - 0s 6ms/step - loss: 1.0266 - accuracy: 0.5800\n",
            "Epoch 29/500\n",
            "5/5 [==============================] - 0s 7ms/step - loss: 1.0264 - accuracy: 0.6000\n",
            "Epoch 30/500\n",
            "5/5 [==============================] - 0s 6ms/step - loss: 1.0601 - accuracy: 0.6200\n",
            "Epoch 31/500\n",
            "5/5 [==============================] - 0s 6ms/step - loss: 1.0545 - accuracy: 0.6000\n",
            "Epoch 32/500\n",
            "5/5 [==============================] - 0s 6ms/step - loss: 1.0880 - accuracy: 0.5600\n",
            "Epoch 33/500\n",
            "5/5 [==============================] - 0s 9ms/step - loss: 1.0841 - accuracy: 0.5600\n",
            "Epoch 34/500\n",
            "5/5 [==============================] - 0s 6ms/step - loss: 1.0313 - accuracy: 0.6400\n",
            "Epoch 35/500\n",
            "5/5 [==============================] - 0s 6ms/step - loss: 1.0332 - accuracy: 0.6200\n",
            "Epoch 36/500\n",
            "5/5 [==============================] - 0s 7ms/step - loss: 1.0318 - accuracy: 0.6000\n",
            "Epoch 37/500\n",
            "5/5 [==============================] - 0s 6ms/step - loss: 1.0433 - accuracy: 0.5800\n",
            "Epoch 38/500\n",
            "5/5 [==============================] - 0s 8ms/step - loss: 1.0591 - accuracy: 0.5800\n",
            "Epoch 39/500\n",
            "5/5 [==============================] - 0s 6ms/step - loss: 1.0848 - accuracy: 0.5600\n",
            "Epoch 40/500\n",
            "5/5 [==============================] - 0s 6ms/step - loss: 1.0694 - accuracy: 0.5800\n",
            "Epoch 41/500\n",
            "5/5 [==============================] - 0s 6ms/step - loss: 1.0166 - accuracy: 0.6200\n",
            "Epoch 42/500\n",
            "5/5 [==============================] - 0s 8ms/step - loss: 1.0078 - accuracy: 0.6200\n",
            "Epoch 43/500\n",
            "5/5 [==============================] - 0s 6ms/step - loss: 1.0693 - accuracy: 0.5400\n",
            "Epoch 44/500\n",
            "5/5 [==============================] - 0s 8ms/step - loss: 1.0231 - accuracy: 0.5600\n",
            "Epoch 45/500\n",
            "5/5 [==============================] - 0s 7ms/step - loss: 1.0081 - accuracy: 0.6400\n",
            "Epoch 46/500\n",
            "5/5 [==============================] - 0s 6ms/step - loss: 1.0508 - accuracy: 0.5400\n",
            "Epoch 47/500\n",
            "5/5 [==============================] - 0s 6ms/step - loss: 1.1266 - accuracy: 0.5200\n",
            "Epoch 48/500\n",
            "5/5 [==============================] - 0s 7ms/step - loss: 1.1038 - accuracy: 0.5600\n",
            "Epoch 49/500\n",
            "5/5 [==============================] - 0s 6ms/step - loss: 1.0452 - accuracy: 0.5600\n",
            "Epoch 50/500\n",
            "5/5 [==============================] - 0s 6ms/step - loss: 1.0380 - accuracy: 0.5800\n",
            "Epoch 51/500\n",
            "5/5 [==============================] - 0s 7ms/step - loss: 1.0076 - accuracy: 0.5800\n",
            "Epoch 52/500\n",
            "5/5 [==============================] - 0s 6ms/step - loss: 1.0842 - accuracy: 0.5000\n",
            "Epoch 53/500\n",
            "5/5 [==============================] - 0s 6ms/step - loss: 1.0362 - accuracy: 0.5800\n",
            "Epoch 54/500\n",
            "5/5 [==============================] - 0s 6ms/step - loss: 1.0244 - accuracy: 0.5800\n",
            "Epoch 55/500\n",
            "5/5 [==============================] - 0s 7ms/step - loss: 1.0288 - accuracy: 0.6000\n",
            "Epoch 56/500\n",
            "5/5 [==============================] - 0s 7ms/step - loss: 1.0425 - accuracy: 0.5800\n",
            "Epoch 57/500\n",
            "5/5 [==============================] - 0s 7ms/step - loss: 1.0421 - accuracy: 0.5400\n",
            "Epoch 58/500\n",
            "5/5 [==============================] - 0s 6ms/step - loss: 1.0265 - accuracy: 0.6000\n",
            "Epoch 59/500\n",
            "5/5 [==============================] - 0s 7ms/step - loss: 1.0195 - accuracy: 0.6200\n",
            "Epoch 60/500\n",
            "5/5 [==============================] - 0s 6ms/step - loss: 1.0193 - accuracy: 0.6000\n",
            "Epoch 61/500\n",
            "5/5 [==============================] - 0s 8ms/step - loss: 1.0290 - accuracy: 0.6200\n",
            "Epoch 62/500\n",
            "5/5 [==============================] - 0s 6ms/step - loss: 1.0164 - accuracy: 0.6000\n",
            "Epoch 63/500\n",
            "5/5 [==============================] - 0s 7ms/step - loss: 1.0155 - accuracy: 0.6000\n",
            "Epoch 64/500\n",
            "5/5 [==============================] - 0s 6ms/step - loss: 1.0224 - accuracy: 0.6000\n",
            "Epoch 65/500\n",
            "5/5 [==============================] - 0s 9ms/step - loss: 1.0313 - accuracy: 0.5800\n",
            "Epoch 66/500\n",
            "5/5 [==============================] - 0s 6ms/step - loss: 1.0127 - accuracy: 0.6000\n",
            "Epoch 67/500\n",
            "5/5 [==============================] - 0s 7ms/step - loss: 1.0041 - accuracy: 0.6400\n",
            "Epoch 68/500\n",
            "5/5 [==============================] - 0s 7ms/step - loss: 1.0229 - accuracy: 0.6200\n",
            "Epoch 69/500\n",
            "5/5 [==============================] - 0s 9ms/step - loss: 1.0164 - accuracy: 0.6200\n",
            "Epoch 70/500\n",
            "5/5 [==============================] - 0s 7ms/step - loss: 1.0203 - accuracy: 0.6400\n",
            "Epoch 71/500\n",
            "5/5 [==============================] - 0s 6ms/step - loss: 1.0186 - accuracy: 0.5800\n",
            "Epoch 72/500\n",
            "5/5 [==============================] - 0s 6ms/step - loss: 1.0224 - accuracy: 0.6000\n",
            "Epoch 73/500\n",
            "5/5 [==============================] - 0s 6ms/step - loss: 1.0141 - accuracy: 0.5800\n",
            "Epoch 74/500\n",
            "5/5 [==============================] - 0s 8ms/step - loss: 1.0224 - accuracy: 0.6200\n",
            "Epoch 75/500\n",
            "5/5 [==============================] - 0s 6ms/step - loss: 1.0227 - accuracy: 0.6000\n",
            "Epoch 76/500\n",
            "5/5 [==============================] - 0s 8ms/step - loss: 1.0157 - accuracy: 0.6000\n",
            "Epoch 77/500\n",
            "5/5 [==============================] - 0s 8ms/step - loss: 1.0516 - accuracy: 0.6200\n",
            "Epoch 78/500\n",
            "5/5 [==============================] - 0s 6ms/step - loss: 1.0696 - accuracy: 0.5400\n",
            "Epoch 79/500\n",
            "5/5 [==============================] - 0s 6ms/step - loss: 1.1007 - accuracy: 0.5000\n",
            "Epoch 80/500\n",
            "5/5 [==============================] - 0s 6ms/step - loss: 1.0881 - accuracy: 0.6000\n",
            "Epoch 81/500\n",
            "5/5 [==============================] - 0s 6ms/step - loss: 1.0055 - accuracy: 0.6200\n",
            "Epoch 82/500\n",
            "5/5 [==============================] - 0s 6ms/step - loss: 1.0365 - accuracy: 0.6000\n",
            "Epoch 83/500\n",
            "5/5 [==============================] - 0s 7ms/step - loss: 1.0231 - accuracy: 0.6000\n",
            "Epoch 84/500\n",
            "5/5 [==============================] - 0s 6ms/step - loss: 1.0232 - accuracy: 0.5800\n",
            "Epoch 85/500\n",
            "5/5 [==============================] - 0s 7ms/step - loss: 1.0525 - accuracy: 0.5400\n",
            "Epoch 86/500\n",
            "5/5 [==============================] - 0s 6ms/step - loss: 1.0314 - accuracy: 0.5600\n",
            "Epoch 87/500\n",
            "5/5 [==============================] - 0s 6ms/step - loss: 1.0128 - accuracy: 0.6000\n",
            "Epoch 88/500\n",
            "5/5 [==============================] - 0s 7ms/step - loss: 1.0116 - accuracy: 0.6400\n",
            "Epoch 89/500\n",
            "5/5 [==============================] - 0s 8ms/step - loss: 1.0023 - accuracy: 0.6000\n",
            "Epoch 90/500\n",
            "5/5 [==============================] - 0s 7ms/step - loss: 0.9921 - accuracy: 0.6000\n",
            "Epoch 91/500\n",
            "5/5 [==============================] - 0s 8ms/step - loss: 0.9892 - accuracy: 0.6200\n",
            "Epoch 92/500\n",
            "5/5 [==============================] - 0s 7ms/step - loss: 1.0076 - accuracy: 0.5800\n",
            "Epoch 93/500\n",
            "5/5 [==============================] - 0s 8ms/step - loss: 0.9976 - accuracy: 0.6400\n",
            "Epoch 94/500\n",
            "5/5 [==============================] - 0s 7ms/step - loss: 0.9947 - accuracy: 0.6200\n",
            "Epoch 95/500\n",
            "5/5 [==============================] - 0s 6ms/step - loss: 1.0078 - accuracy: 0.6200\n",
            "Epoch 96/500\n",
            "5/5 [==============================] - 0s 7ms/step - loss: 1.0076 - accuracy: 0.6200\n",
            "Epoch 97/500\n",
            "5/5 [==============================] - 0s 6ms/step - loss: 0.9990 - accuracy: 0.6000\n",
            "Epoch 98/500\n",
            "5/5 [==============================] - 0s 7ms/step - loss: 0.9991 - accuracy: 0.6000\n",
            "Epoch 99/500\n",
            "5/5 [==============================] - 0s 6ms/step - loss: 0.9961 - accuracy: 0.6000\n",
            "Epoch 100/500\n",
            "5/5 [==============================] - 0s 6ms/step - loss: 0.9977 - accuracy: 0.6600\n",
            "Epoch 101/500\n",
            "5/5 [==============================] - 0s 7ms/step - loss: 1.0069 - accuracy: 0.6000\n",
            "Epoch 102/500\n",
            "5/5 [==============================] - 0s 6ms/step - loss: 1.0015 - accuracy: 0.5800\n",
            "Epoch 103/500\n",
            "5/5 [==============================] - 0s 6ms/step - loss: 1.0311 - accuracy: 0.5600\n",
            "Epoch 104/500\n",
            "5/5 [==============================] - 0s 6ms/step - loss: 0.9946 - accuracy: 0.6200\n",
            "Epoch 105/500\n",
            "5/5 [==============================] - 0s 6ms/step - loss: 1.0018 - accuracy: 0.6400\n",
            "Epoch 106/500\n",
            "5/5 [==============================] - 0s 8ms/step - loss: 0.9911 - accuracy: 0.6200\n",
            "Epoch 107/500\n",
            "5/5 [==============================] - 0s 7ms/step - loss: 1.0532 - accuracy: 0.5200\n",
            "Epoch 108/500\n",
            "5/5 [==============================] - 0s 7ms/step - loss: 1.0745 - accuracy: 0.5000\n",
            "Epoch 109/500\n",
            "5/5 [==============================] - 0s 8ms/step - loss: 1.1076 - accuracy: 0.6200\n",
            "Epoch 110/500\n",
            "5/5 [==============================] - 0s 6ms/step - loss: 1.1043 - accuracy: 0.5400\n",
            "Epoch 111/500\n",
            "5/5 [==============================] - 0s 6ms/step - loss: 1.0808 - accuracy: 0.6000\n",
            "Epoch 112/500\n",
            "5/5 [==============================] - 0s 6ms/step - loss: 1.0464 - accuracy: 0.5800\n",
            "Epoch 113/500\n",
            "5/5 [==============================] - 0s 6ms/step - loss: 1.1145 - accuracy: 0.5200\n",
            "Epoch 114/500\n",
            "5/5 [==============================] - 0s 7ms/step - loss: 1.1215 - accuracy: 0.5000\n",
            "Epoch 115/500\n",
            "5/5 [==============================] - 0s 9ms/step - loss: 1.0229 - accuracy: 0.6000\n",
            "Epoch 116/500\n",
            "5/5 [==============================] - 0s 6ms/step - loss: 1.0083 - accuracy: 0.5800\n",
            "Epoch 117/500\n",
            "5/5 [==============================] - 0s 7ms/step - loss: 1.0033 - accuracy: 0.6400\n",
            "Epoch 118/500\n",
            "5/5 [==============================] - 0s 11ms/step - loss: 1.0016 - accuracy: 0.6600\n",
            "Epoch 119/500\n",
            "5/5 [==============================] - 0s 8ms/step - loss: 1.0019 - accuracy: 0.6000\n",
            "Epoch 120/500\n",
            "5/5 [==============================] - 0s 7ms/step - loss: 1.0197 - accuracy: 0.6400\n",
            "Epoch 121/500\n",
            "5/5 [==============================] - 0s 7ms/step - loss: 1.0243 - accuracy: 0.5600\n",
            "Epoch 122/500\n",
            "5/5 [==============================] - 0s 7ms/step - loss: 0.9918 - accuracy: 0.6200\n",
            "Epoch 123/500\n",
            "5/5 [==============================] - 0s 8ms/step - loss: 0.9787 - accuracy: 0.6200\n",
            "Epoch 124/500\n",
            "5/5 [==============================] - 0s 7ms/step - loss: 0.9932 - accuracy: 0.6200\n",
            "Epoch 125/500\n",
            "5/5 [==============================] - 0s 7ms/step - loss: 0.9996 - accuracy: 0.6400\n",
            "Epoch 126/500\n",
            "5/5 [==============================] - 0s 7ms/step - loss: 0.9796 - accuracy: 0.6400\n",
            "Epoch 127/500\n",
            "5/5 [==============================] - 0s 6ms/step - loss: 0.9936 - accuracy: 0.6200\n",
            "Epoch 128/500\n",
            "5/5 [==============================] - 0s 7ms/step - loss: 0.9903 - accuracy: 0.6200\n",
            "Epoch 129/500\n",
            "5/5 [==============================] - 0s 6ms/step - loss: 0.9849 - accuracy: 0.6200\n",
            "Epoch 130/500\n",
            "5/5 [==============================] - 0s 7ms/step - loss: 0.9907 - accuracy: 0.6400\n",
            "Epoch 131/500\n",
            "5/5 [==============================] - 0s 6ms/step - loss: 1.0034 - accuracy: 0.6200\n",
            "Epoch 132/500\n",
            "5/5 [==============================] - 0s 6ms/step - loss: 0.9836 - accuracy: 0.6400\n",
            "Epoch 133/500\n",
            "5/5 [==============================] - 0s 6ms/step - loss: 0.9786 - accuracy: 0.6400\n",
            "Epoch 134/500\n",
            "5/5 [==============================] - 0s 7ms/step - loss: 0.9854 - accuracy: 0.6200\n",
            "Epoch 135/500\n",
            "5/5 [==============================] - 0s 7ms/step - loss: 0.9797 - accuracy: 0.6200\n",
            "Epoch 136/500\n",
            "5/5 [==============================] - 0s 7ms/step - loss: 0.9852 - accuracy: 0.6200\n",
            "Epoch 137/500\n",
            "5/5 [==============================] - 0s 6ms/step - loss: 0.9982 - accuracy: 0.5600\n",
            "Epoch 138/500\n",
            "5/5 [==============================] - 0s 7ms/step - loss: 1.0116 - accuracy: 0.5800\n",
            "Epoch 139/500\n",
            "5/5 [==============================] - 0s 7ms/step - loss: 1.0422 - accuracy: 0.6000\n",
            "Epoch 140/500\n",
            "5/5 [==============================] - 0s 8ms/step - loss: 1.0606 - accuracy: 0.5600\n",
            "Epoch 141/500\n",
            "5/5 [==============================] - 0s 6ms/step - loss: 1.0749 - accuracy: 0.5600\n",
            "Epoch 142/500\n",
            "5/5 [==============================] - 0s 9ms/step - loss: 1.0238 - accuracy: 0.6000\n",
            "Epoch 143/500\n",
            "5/5 [==============================] - 0s 7ms/step - loss: 0.9610 - accuracy: 0.6400\n",
            "Epoch 144/500\n",
            "5/5 [==============================] - 0s 6ms/step - loss: 1.0235 - accuracy: 0.5800\n",
            "Epoch 145/500\n",
            "5/5 [==============================] - 0s 7ms/step - loss: 1.0106 - accuracy: 0.6000\n",
            "Epoch 146/500\n",
            "5/5 [==============================] - 0s 7ms/step - loss: 1.0015 - accuracy: 0.6000\n",
            "Epoch 147/500\n",
            "5/5 [==============================] - 0s 7ms/step - loss: 0.9914 - accuracy: 0.6200\n",
            "Epoch 148/500\n",
            "5/5 [==============================] - 0s 6ms/step - loss: 1.0132 - accuracy: 0.6400\n",
            "Epoch 149/500\n",
            "5/5 [==============================] - 0s 7ms/step - loss: 0.9664 - accuracy: 0.6400\n",
            "Epoch 150/500\n",
            "5/5 [==============================] - 0s 6ms/step - loss: 0.9966 - accuracy: 0.6400\n",
            "Epoch 151/500\n",
            "5/5 [==============================] - 0s 6ms/step - loss: 1.0033 - accuracy: 0.6200\n",
            "Epoch 152/500\n",
            "5/5 [==============================] - 0s 7ms/step - loss: 0.9918 - accuracy: 0.6200\n",
            "Epoch 153/500\n",
            "5/5 [==============================] - 0s 8ms/step - loss: 0.9754 - accuracy: 0.6200\n",
            "Epoch 154/500\n",
            "5/5 [==============================] - 0s 7ms/step - loss: 0.9723 - accuracy: 0.6400\n",
            "Epoch 155/500\n",
            "5/5 [==============================] - 0s 6ms/step - loss: 1.0008 - accuracy: 0.6600\n",
            "Epoch 156/500\n",
            "5/5 [==============================] - 0s 6ms/step - loss: 0.9784 - accuracy: 0.6400\n",
            "Epoch 157/500\n",
            "5/5 [==============================] - 0s 8ms/step - loss: 1.0031 - accuracy: 0.6200\n",
            "Epoch 158/500\n",
            "5/5 [==============================] - 0s 7ms/step - loss: 1.0100 - accuracy: 0.6400\n",
            "Epoch 159/500\n",
            "5/5 [==============================] - 0s 6ms/step - loss: 1.0374 - accuracy: 0.5800\n",
            "Epoch 160/500\n",
            "5/5 [==============================] - 0s 8ms/step - loss: 1.0080 - accuracy: 0.5800\n",
            "Epoch 161/500\n",
            "5/5 [==============================] - 0s 6ms/step - loss: 1.0321 - accuracy: 0.6200\n",
            "Epoch 162/500\n",
            "5/5 [==============================] - 0s 7ms/step - loss: 1.0911 - accuracy: 0.5000\n",
            "Epoch 163/500\n",
            "5/5 [==============================] - 0s 7ms/step - loss: 1.1873 - accuracy: 0.4800\n",
            "Epoch 164/500\n",
            "5/5 [==============================] - 0s 6ms/step - loss: 1.2095 - accuracy: 0.4200\n",
            "Epoch 165/500\n",
            "5/5 [==============================] - 0s 6ms/step - loss: 1.0799 - accuracy: 0.6000\n",
            "Epoch 166/500\n",
            "5/5 [==============================] - 0s 8ms/step - loss: 1.1478 - accuracy: 0.5000\n",
            "Epoch 167/500\n",
            "5/5 [==============================] - 0s 7ms/step - loss: 1.1084 - accuracy: 0.4800\n",
            "Epoch 168/500\n",
            "5/5 [==============================] - 0s 7ms/step - loss: 1.0981 - accuracy: 0.6200\n",
            "Epoch 169/500\n",
            "5/5 [==============================] - 0s 7ms/step - loss: 1.0372 - accuracy: 0.4800\n",
            "Epoch 170/500\n",
            "5/5 [==============================] - 0s 7ms/step - loss: 1.0418 - accuracy: 0.6000\n",
            "Epoch 171/500\n",
            "5/5 [==============================] - 0s 7ms/step - loss: 1.0098 - accuracy: 0.6000\n",
            "Epoch 172/500\n",
            "5/5 [==============================] - 0s 7ms/step - loss: 1.0240 - accuracy: 0.6000\n",
            "Epoch 173/500\n",
            "5/5 [==============================] - 0s 7ms/step - loss: 0.9861 - accuracy: 0.6200\n",
            "Epoch 174/500\n",
            "5/5 [==============================] - 0s 7ms/step - loss: 0.9925 - accuracy: 0.6800\n",
            "Epoch 175/500\n",
            "5/5 [==============================] - 0s 7ms/step - loss: 1.0030 - accuracy: 0.6400\n",
            "Epoch 176/500\n",
            "5/5 [==============================] - 0s 7ms/step - loss: 0.9923 - accuracy: 0.6400\n",
            "Epoch 177/500\n",
            "5/5 [==============================] - 0s 6ms/step - loss: 0.9929 - accuracy: 0.6400\n",
            "Epoch 178/500\n",
            "5/5 [==============================] - 0s 6ms/step - loss: 0.9622 - accuracy: 0.6200\n",
            "Epoch 179/500\n",
            "5/5 [==============================] - 0s 6ms/step - loss: 0.9838 - accuracy: 0.6400\n",
            "Epoch 180/500\n",
            "5/5 [==============================] - 0s 7ms/step - loss: 0.9814 - accuracy: 0.6600\n",
            "Epoch 181/500\n",
            "5/5 [==============================] - 0s 6ms/step - loss: 0.9755 - accuracy: 0.6600\n",
            "Epoch 182/500\n",
            "5/5 [==============================] - 0s 6ms/step - loss: 0.9742 - accuracy: 0.6400\n",
            "Epoch 183/500\n",
            "5/5 [==============================] - 0s 6ms/step - loss: 0.9658 - accuracy: 0.6400\n",
            "Epoch 184/500\n",
            "5/5 [==============================] - 0s 6ms/step - loss: 0.9705 - accuracy: 0.6400\n",
            "Epoch 185/500\n",
            "5/5 [==============================] - 0s 6ms/step - loss: 0.9643 - accuracy: 0.6600\n",
            "Epoch 186/500\n",
            "5/5 [==============================] - 0s 7ms/step - loss: 0.9790 - accuracy: 0.6400\n",
            "Epoch 187/500\n",
            "5/5 [==============================] - 0s 8ms/step - loss: 0.9679 - accuracy: 0.6600\n",
            "Epoch 188/500\n",
            "5/5 [==============================] - 0s 7ms/step - loss: 0.9951 - accuracy: 0.5800\n",
            "Epoch 189/500\n",
            "5/5 [==============================] - 0s 7ms/step - loss: 0.9947 - accuracy: 0.6400\n",
            "Epoch 190/500\n",
            "5/5 [==============================] - 0s 6ms/step - loss: 0.9889 - accuracy: 0.6200\n",
            "Epoch 191/500\n",
            "5/5 [==============================] - 0s 6ms/step - loss: 1.0151 - accuracy: 0.5400\n",
            "Epoch 192/500\n",
            "5/5 [==============================] - 0s 6ms/step - loss: 1.0376 - accuracy: 0.5800\n",
            "Epoch 193/500\n",
            "5/5 [==============================] - 0s 7ms/step - loss: 1.0377 - accuracy: 0.5600\n",
            "Epoch 194/500\n",
            "5/5 [==============================] - 0s 7ms/step - loss: 1.0028 - accuracy: 0.6600\n",
            "Epoch 195/500\n",
            "5/5 [==============================] - 0s 7ms/step - loss: 0.9726 - accuracy: 0.6200\n",
            "Epoch 196/500\n",
            "5/5 [==============================] - 0s 7ms/step - loss: 0.9831 - accuracy: 0.6200\n",
            "Epoch 197/500\n",
            "5/5 [==============================] - 0s 7ms/step - loss: 0.9619 - accuracy: 0.6000\n",
            "Epoch 198/500\n",
            "5/5 [==============================] - 0s 6ms/step - loss: 1.0102 - accuracy: 0.6000\n",
            "Epoch 199/500\n",
            "5/5 [==============================] - 0s 8ms/step - loss: 0.9881 - accuracy: 0.5800\n",
            "Epoch 200/500\n",
            "5/5 [==============================] - 0s 6ms/step - loss: 0.9923 - accuracy: 0.6000\n",
            "Epoch 201/500\n",
            "5/5 [==============================] - 0s 6ms/step - loss: 0.9857 - accuracy: 0.6400\n",
            "Epoch 202/500\n",
            "5/5 [==============================] - 0s 7ms/step - loss: 0.9723 - accuracy: 0.6400\n",
            "Epoch 203/500\n",
            "5/5 [==============================] - 0s 7ms/step - loss: 0.9653 - accuracy: 0.6200\n",
            "Epoch 204/500\n",
            "5/5 [==============================] - 0s 7ms/step - loss: 0.9763 - accuracy: 0.6400\n",
            "Epoch 205/500\n",
            "5/5 [==============================] - 0s 7ms/step - loss: 0.9742 - accuracy: 0.6000\n",
            "Epoch 206/500\n",
            "5/5 [==============================] - 0s 7ms/step - loss: 0.9854 - accuracy: 0.6400\n",
            "Epoch 207/500\n",
            "5/5 [==============================] - 0s 7ms/step - loss: 0.9627 - accuracy: 0.6400\n",
            "Epoch 208/500\n",
            "5/5 [==============================] - 0s 7ms/step - loss: 0.9696 - accuracy: 0.6400\n",
            "Epoch 209/500\n",
            "5/5 [==============================] - 0s 6ms/step - loss: 0.9529 - accuracy: 0.6600\n",
            "Epoch 210/500\n",
            "5/5 [==============================] - 0s 6ms/step - loss: 0.9506 - accuracy: 0.6400\n",
            "Epoch 211/500\n",
            "5/5 [==============================] - 0s 7ms/step - loss: 0.9721 - accuracy: 0.6200\n",
            "Epoch 212/500\n",
            "5/5 [==============================] - 0s 6ms/step - loss: 0.9438 - accuracy: 0.6400\n",
            "Epoch 213/500\n",
            "5/5 [==============================] - 0s 7ms/step - loss: 0.9638 - accuracy: 0.6400\n",
            "Epoch 214/500\n",
            "5/5 [==============================] - 0s 7ms/step - loss: 1.0340 - accuracy: 0.5600\n",
            "Epoch 215/500\n",
            "5/5 [==============================] - 0s 8ms/step - loss: 1.0228 - accuracy: 0.5800\n",
            "Epoch 216/500\n",
            "5/5 [==============================] - 0s 8ms/step - loss: 1.0799 - accuracy: 0.5200\n",
            "Epoch 217/500\n",
            "5/5 [==============================] - 0s 7ms/step - loss: 1.0527 - accuracy: 0.5600\n",
            "Epoch 218/500\n",
            "5/5 [==============================] - 0s 8ms/step - loss: 1.0907 - accuracy: 0.5600\n",
            "Epoch 219/500\n",
            "5/5 [==============================] - 0s 6ms/step - loss: 1.1011 - accuracy: 0.4600\n",
            "Epoch 220/500\n",
            "5/5 [==============================] - 0s 6ms/step - loss: 1.0300 - accuracy: 0.5600\n",
            "Epoch 221/500\n",
            "5/5 [==============================] - 0s 7ms/step - loss: 0.9949 - accuracy: 0.5600\n",
            "Epoch 222/500\n",
            "5/5 [==============================] - 0s 7ms/step - loss: 0.9706 - accuracy: 0.6600\n",
            "Epoch 223/500\n",
            "5/5 [==============================] - 0s 7ms/step - loss: 0.9907 - accuracy: 0.6000\n",
            "Epoch 224/500\n",
            "5/5 [==============================] - 0s 7ms/step - loss: 0.9913 - accuracy: 0.6400\n",
            "Epoch 225/500\n",
            "5/5 [==============================] - 0s 6ms/step - loss: 1.0586 - accuracy: 0.5400\n",
            "Epoch 226/500\n",
            "5/5 [==============================] - 0s 7ms/step - loss: 0.9968 - accuracy: 0.6000\n",
            "Epoch 227/500\n",
            "5/5 [==============================] - 0s 7ms/step - loss: 0.9728 - accuracy: 0.6600\n",
            "Epoch 228/500\n",
            "5/5 [==============================] - 0s 7ms/step - loss: 0.9723 - accuracy: 0.5800\n",
            "Epoch 229/500\n",
            "5/5 [==============================] - 0s 7ms/step - loss: 0.9544 - accuracy: 0.6200\n",
            "Epoch 230/500\n",
            "5/5 [==============================] - 0s 7ms/step - loss: 0.9715 - accuracy: 0.6200\n",
            "Epoch 231/500\n",
            "5/5 [==============================] - 0s 6ms/step - loss: 0.9603 - accuracy: 0.6600\n",
            "Epoch 232/500\n",
            "5/5 [==============================] - 0s 7ms/step - loss: 0.9756 - accuracy: 0.6400\n",
            "Epoch 233/500\n",
            "5/5 [==============================] - 0s 6ms/step - loss: 0.9824 - accuracy: 0.6000\n",
            "Epoch 234/500\n",
            "5/5 [==============================] - 0s 7ms/step - loss: 0.9903 - accuracy: 0.6200\n",
            "Epoch 235/500\n",
            "5/5 [==============================] - 0s 7ms/step - loss: 0.9752 - accuracy: 0.6600\n",
            "Epoch 236/500\n",
            "5/5 [==============================] - 0s 7ms/step - loss: 0.9415 - accuracy: 0.6400\n",
            "Epoch 237/500\n",
            "5/5 [==============================] - 0s 6ms/step - loss: 0.9528 - accuracy: 0.6200\n",
            "Epoch 238/500\n",
            "5/5 [==============================] - 0s 8ms/step - loss: 0.9896 - accuracy: 0.6000\n",
            "Epoch 239/500\n",
            "5/5 [==============================] - 0s 8ms/step - loss: 0.9527 - accuracy: 0.6600\n",
            "Epoch 240/500\n",
            "5/5 [==============================] - 0s 7ms/step - loss: 0.9563 - accuracy: 0.6200\n",
            "Epoch 241/500\n",
            "5/5 [==============================] - 0s 7ms/step - loss: 0.9392 - accuracy: 0.6400\n",
            "Epoch 242/500\n",
            "5/5 [==============================] - 0s 6ms/step - loss: 0.9453 - accuracy: 0.6600\n",
            "Epoch 243/500\n",
            "5/5 [==============================] - 0s 8ms/step - loss: 0.9620 - accuracy: 0.6400\n",
            "Epoch 244/500\n",
            "5/5 [==============================] - 0s 6ms/step - loss: 0.9626 - accuracy: 0.6000\n",
            "Epoch 245/500\n",
            "5/5 [==============================] - 0s 6ms/step - loss: 0.9610 - accuracy: 0.6000\n",
            "Epoch 246/500\n",
            "5/5 [==============================] - 0s 7ms/step - loss: 0.9370 - accuracy: 0.6400\n",
            "Epoch 247/500\n",
            "5/5 [==============================] - 0s 6ms/step - loss: 0.9369 - accuracy: 0.6600\n",
            "Epoch 248/500\n",
            "5/5 [==============================] - 0s 7ms/step - loss: 0.9470 - accuracy: 0.6600\n",
            "Epoch 249/500\n",
            "5/5 [==============================] - 0s 7ms/step - loss: 0.9675 - accuracy: 0.6600\n",
            "Epoch 250/500\n",
            "5/5 [==============================] - 0s 7ms/step - loss: 0.9845 - accuracy: 0.6200\n",
            "Epoch 251/500\n",
            "5/5 [==============================] - 0s 7ms/step - loss: 0.9795 - accuracy: 0.6600\n",
            "Epoch 252/500\n",
            "5/5 [==============================] - 0s 6ms/step - loss: 0.9908 - accuracy: 0.6000\n",
            "Epoch 253/500\n",
            "5/5 [==============================] - 0s 7ms/step - loss: 0.9883 - accuracy: 0.6000\n",
            "Epoch 254/500\n",
            "5/5 [==============================] - 0s 8ms/step - loss: 1.0053 - accuracy: 0.6000\n",
            "Epoch 255/500\n",
            "5/5 [==============================] - 0s 7ms/step - loss: 1.0238 - accuracy: 0.6000\n",
            "Epoch 256/500\n",
            "5/5 [==============================] - 0s 7ms/step - loss: 0.9775 - accuracy: 0.6200\n",
            "Epoch 257/500\n",
            "5/5 [==============================] - 0s 7ms/step - loss: 0.9994 - accuracy: 0.6000\n",
            "Epoch 258/500\n",
            "5/5 [==============================] - 0s 7ms/step - loss: 0.9447 - accuracy: 0.6400\n",
            "Epoch 259/500\n",
            "5/5 [==============================] - 0s 7ms/step - loss: 0.9463 - accuracy: 0.6200\n",
            "Epoch 260/500\n",
            "5/5 [==============================] - 0s 7ms/step - loss: 0.9390 - accuracy: 0.6400\n",
            "Epoch 261/500\n",
            "5/5 [==============================] - 0s 10ms/step - loss: 0.9690 - accuracy: 0.6400\n",
            "Epoch 262/500\n",
            "5/5 [==============================] - 0s 7ms/step - loss: 0.9531 - accuracy: 0.6400\n",
            "Epoch 263/500\n",
            "5/5 [==============================] - 0s 9ms/step - loss: 0.9488 - accuracy: 0.6600\n",
            "Epoch 264/500\n",
            "5/5 [==============================] - 0s 8ms/step - loss: 0.9423 - accuracy: 0.6200\n",
            "Epoch 265/500\n",
            "5/5 [==============================] - 0s 8ms/step - loss: 0.9463 - accuracy: 0.6200\n",
            "Epoch 266/500\n",
            "5/5 [==============================] - 0s 7ms/step - loss: 0.9457 - accuracy: 0.6600\n",
            "Epoch 267/500\n",
            "5/5 [==============================] - 0s 8ms/step - loss: 0.9466 - accuracy: 0.6800\n",
            "Epoch 268/500\n",
            "5/5 [==============================] - 0s 9ms/step - loss: 0.9360 - accuracy: 0.6400\n",
            "Epoch 269/500\n",
            "5/5 [==============================] - 0s 9ms/step - loss: 0.9407 - accuracy: 0.6400\n",
            "Epoch 270/500\n",
            "5/5 [==============================] - 0s 9ms/step - loss: 1.0002 - accuracy: 0.6400\n",
            "Epoch 271/500\n",
            "5/5 [==============================] - 0s 9ms/step - loss: 0.9655 - accuracy: 0.6600\n",
            "Epoch 272/500\n",
            "5/5 [==============================] - 0s 8ms/step - loss: 0.9377 - accuracy: 0.6200\n",
            "Epoch 273/500\n",
            "5/5 [==============================] - 0s 7ms/step - loss: 0.9376 - accuracy: 0.6400\n",
            "Epoch 274/500\n",
            "5/5 [==============================] - 0s 6ms/step - loss: 0.9552 - accuracy: 0.6200\n",
            "Epoch 275/500\n",
            "5/5 [==============================] - 0s 7ms/step - loss: 0.9720 - accuracy: 0.6000\n",
            "Epoch 276/500\n",
            "5/5 [==============================] - 0s 7ms/step - loss: 0.9611 - accuracy: 0.6400\n",
            "Epoch 277/500\n",
            "5/5 [==============================] - 0s 7ms/step - loss: 0.9720 - accuracy: 0.6400\n",
            "Epoch 278/500\n",
            "5/5 [==============================] - 0s 7ms/step - loss: 1.0212 - accuracy: 0.5600\n",
            "Epoch 279/500\n",
            "5/5 [==============================] - 0s 8ms/step - loss: 1.0957 - accuracy: 0.5400\n",
            "Epoch 280/500\n",
            "5/5 [==============================] - 0s 6ms/step - loss: 1.0455 - accuracy: 0.5400\n",
            "Epoch 281/500\n",
            "5/5 [==============================] - 0s 6ms/step - loss: 0.9852 - accuracy: 0.6200\n",
            "Epoch 282/500\n",
            "5/5 [==============================] - 0s 8ms/step - loss: 0.9449 - accuracy: 0.6400\n",
            "Epoch 283/500\n",
            "5/5 [==============================] - 0s 7ms/step - loss: 0.9544 - accuracy: 0.6000\n",
            "Epoch 284/500\n",
            "5/5 [==============================] - 0s 7ms/step - loss: 0.9397 - accuracy: 0.6400\n",
            "Epoch 285/500\n",
            "5/5 [==============================] - 0s 9ms/step - loss: 0.9542 - accuracy: 0.6400\n",
            "Epoch 286/500\n",
            "5/5 [==============================] - 0s 7ms/step - loss: 0.9462 - accuracy: 0.6400\n",
            "Epoch 287/500\n",
            "5/5 [==============================] - 0s 7ms/step - loss: 0.9241 - accuracy: 0.6400\n",
            "Epoch 288/500\n",
            "5/5 [==============================] - 0s 8ms/step - loss: 0.9268 - accuracy: 0.6600\n",
            "Epoch 289/500\n",
            "5/5 [==============================] - 0s 7ms/step - loss: 0.9339 - accuracy: 0.6600\n",
            "Epoch 290/500\n",
            "5/5 [==============================] - 0s 6ms/step - loss: 0.9665 - accuracy: 0.6200\n",
            "Epoch 291/500\n",
            "5/5 [==============================] - 0s 7ms/step - loss: 0.9928 - accuracy: 0.6400\n",
            "Epoch 292/500\n",
            "5/5 [==============================] - 0s 7ms/step - loss: 0.9738 - accuracy: 0.6200\n",
            "Epoch 293/500\n",
            "5/5 [==============================] - 0s 8ms/step - loss: 1.1054 - accuracy: 0.5200\n",
            "Epoch 294/500\n",
            "5/5 [==============================] - 0s 7ms/step - loss: 1.1489 - accuracy: 0.4800\n",
            "Epoch 295/500\n",
            "5/5 [==============================] - 0s 8ms/step - loss: 1.0151 - accuracy: 0.6200\n",
            "Epoch 296/500\n",
            "5/5 [==============================] - 0s 6ms/step - loss: 0.9500 - accuracy: 0.6600\n",
            "Epoch 297/500\n",
            "5/5 [==============================] - 0s 6ms/step - loss: 0.9442 - accuracy: 0.6000\n",
            "Epoch 298/500\n",
            "5/5 [==============================] - 0s 7ms/step - loss: 0.9936 - accuracy: 0.6200\n",
            "Epoch 299/500\n",
            "5/5 [==============================] - 0s 8ms/step - loss: 0.9692 - accuracy: 0.6400\n",
            "Epoch 300/500\n",
            "5/5 [==============================] - 0s 7ms/step - loss: 0.9847 - accuracy: 0.6200\n",
            "Epoch 301/500\n",
            "5/5 [==============================] - 0s 7ms/step - loss: 0.9871 - accuracy: 0.6000\n",
            "Epoch 302/500\n",
            "5/5 [==============================] - 0s 8ms/step - loss: 0.9342 - accuracy: 0.6600\n",
            "Epoch 303/500\n",
            "5/5 [==============================] - 0s 8ms/step - loss: 0.9419 - accuracy: 0.6200\n",
            "Epoch 304/500\n",
            "5/5 [==============================] - 0s 7ms/step - loss: 0.9393 - accuracy: 0.6600\n",
            "Epoch 305/500\n",
            "5/5 [==============================] - 0s 7ms/step - loss: 0.9264 - accuracy: 0.6600\n",
            "Epoch 306/500\n",
            "5/5 [==============================] - 0s 8ms/step - loss: 0.9221 - accuracy: 0.6400\n",
            "Epoch 307/500\n",
            "5/5 [==============================] - 0s 7ms/step - loss: 0.9198 - accuracy: 0.6600\n",
            "Epoch 308/500\n",
            "5/5 [==============================] - 0s 9ms/step - loss: 0.9436 - accuracy: 0.6400\n",
            "Epoch 309/500\n",
            "5/5 [==============================] - 0s 9ms/step - loss: 0.9595 - accuracy: 0.6400\n",
            "Epoch 310/500\n",
            "5/5 [==============================] - 0s 6ms/step - loss: 0.9641 - accuracy: 0.6200\n",
            "Epoch 311/500\n",
            "5/5 [==============================] - 0s 6ms/step - loss: 0.9474 - accuracy: 0.6200\n",
            "Epoch 312/500\n",
            "5/5 [==============================] - 0s 9ms/step - loss: 0.9278 - accuracy: 0.6000\n",
            "Epoch 313/500\n",
            "5/5 [==============================] - 0s 7ms/step - loss: 0.9829 - accuracy: 0.6400\n",
            "Epoch 314/500\n",
            "5/5 [==============================] - 0s 7ms/step - loss: 0.9495 - accuracy: 0.6600\n",
            "Epoch 315/500\n",
            "5/5 [==============================] - 0s 8ms/step - loss: 0.9987 - accuracy: 0.5600\n",
            "Epoch 316/500\n",
            "5/5 [==============================] - 0s 7ms/step - loss: 0.9720 - accuracy: 0.6200\n",
            "Epoch 317/500\n",
            "5/5 [==============================] - 0s 7ms/step - loss: 0.9799 - accuracy: 0.6200\n",
            "Epoch 318/500\n",
            "5/5 [==============================] - 0s 7ms/step - loss: 0.9384 - accuracy: 0.6400\n",
            "Epoch 319/500\n",
            "5/5 [==============================] - 0s 7ms/step - loss: 0.9510 - accuracy: 0.6800\n",
            "Epoch 320/500\n",
            "5/5 [==============================] - 0s 8ms/step - loss: 0.9520 - accuracy: 0.6400\n",
            "Epoch 321/500\n",
            "5/5 [==============================] - 0s 8ms/step - loss: 0.9513 - accuracy: 0.6800\n",
            "Epoch 322/500\n",
            "5/5 [==============================] - 0s 7ms/step - loss: 0.9444 - accuracy: 0.6000\n",
            "Epoch 323/500\n",
            "5/5 [==============================] - 0s 7ms/step - loss: 0.9312 - accuracy: 0.6000\n",
            "Epoch 324/500\n",
            "5/5 [==============================] - 0s 7ms/step - loss: 0.9211 - accuracy: 0.6400\n",
            "Epoch 325/500\n",
            "5/5 [==============================] - 0s 8ms/step - loss: 0.9299 - accuracy: 0.6600\n",
            "Epoch 326/500\n",
            "5/5 [==============================] - 0s 7ms/step - loss: 0.9458 - accuracy: 0.6600\n",
            "Epoch 327/500\n",
            "5/5 [==============================] - 0s 7ms/step - loss: 0.9680 - accuracy: 0.6200\n",
            "Epoch 328/500\n",
            "5/5 [==============================] - 0s 7ms/step - loss: 1.0767 - accuracy: 0.5000\n",
            "Epoch 329/500\n",
            "5/5 [==============================] - 0s 7ms/step - loss: 1.1114 - accuracy: 0.5600\n",
            "Epoch 330/500\n",
            "5/5 [==============================] - 0s 7ms/step - loss: 1.0843 - accuracy: 0.4800\n",
            "Epoch 331/500\n",
            "5/5 [==============================] - 0s 9ms/step - loss: 1.0280 - accuracy: 0.6400\n",
            "Epoch 332/500\n",
            "5/5 [==============================] - 0s 7ms/step - loss: 0.9350 - accuracy: 0.6600\n",
            "Epoch 333/500\n",
            "5/5 [==============================] - 0s 8ms/step - loss: 1.0085 - accuracy: 0.6000\n",
            "Epoch 334/500\n",
            "5/5 [==============================] - 0s 8ms/step - loss: 0.9734 - accuracy: 0.6000\n",
            "Epoch 335/500\n",
            "5/5 [==============================] - 0s 7ms/step - loss: 0.9917 - accuracy: 0.6600\n",
            "Epoch 336/500\n",
            "5/5 [==============================] - 0s 7ms/step - loss: 0.9914 - accuracy: 0.5800\n",
            "Epoch 337/500\n",
            "5/5 [==============================] - 0s 7ms/step - loss: 1.0350 - accuracy: 0.5600\n",
            "Epoch 338/500\n",
            "5/5 [==============================] - 0s 7ms/step - loss: 0.9655 - accuracy: 0.6200\n",
            "Epoch 339/500\n",
            "5/5 [==============================] - 0s 8ms/step - loss: 0.9988 - accuracy: 0.6000\n",
            "Epoch 340/500\n",
            "5/5 [==============================] - 0s 7ms/step - loss: 1.0276 - accuracy: 0.5600\n",
            "Epoch 341/500\n",
            "5/5 [==============================] - 0s 8ms/step - loss: 0.9586 - accuracy: 0.6000\n",
            "Epoch 342/500\n",
            "5/5 [==============================] - 0s 9ms/step - loss: 0.9749 - accuracy: 0.6400\n",
            "Epoch 343/500\n",
            "5/5 [==============================] - 0s 8ms/step - loss: 0.9497 - accuracy: 0.6400\n",
            "Epoch 344/500\n",
            "5/5 [==============================] - 0s 7ms/step - loss: 0.9430 - accuracy: 0.6200\n",
            "Epoch 345/500\n",
            "5/5 [==============================] - 0s 8ms/step - loss: 0.9122 - accuracy: 0.6600\n",
            "Epoch 346/500\n",
            "5/5 [==============================] - 0s 7ms/step - loss: 0.9379 - accuracy: 0.6600\n",
            "Epoch 347/500\n",
            "5/5 [==============================] - 0s 7ms/step - loss: 0.9273 - accuracy: 0.6400\n",
            "Epoch 348/500\n",
            "5/5 [==============================] - 0s 7ms/step - loss: 0.9452 - accuracy: 0.6400\n",
            "Epoch 349/500\n",
            "5/5 [==============================] - 0s 7ms/step - loss: 0.9409 - accuracy: 0.6600\n",
            "Epoch 350/500\n",
            "5/5 [==============================] - 0s 7ms/step - loss: 0.9159 - accuracy: 0.6400\n",
            "Epoch 351/500\n",
            "5/5 [==============================] - 0s 8ms/step - loss: 0.9157 - accuracy: 0.6200\n",
            "Epoch 352/500\n",
            "5/5 [==============================] - 0s 7ms/step - loss: 0.9309 - accuracy: 0.6200\n",
            "Epoch 353/500\n",
            "5/5 [==============================] - 0s 9ms/step - loss: 0.9358 - accuracy: 0.6600\n",
            "Epoch 354/500\n",
            "5/5 [==============================] - 0s 7ms/step - loss: 0.9405 - accuracy: 0.6400\n",
            "Epoch 355/500\n",
            "5/5 [==============================] - 0s 7ms/step - loss: 0.9330 - accuracy: 0.6600\n",
            "Epoch 356/500\n",
            "5/5 [==============================] - 0s 8ms/step - loss: 0.9153 - accuracy: 0.6600\n",
            "Epoch 357/500\n",
            "5/5 [==============================] - 0s 7ms/step - loss: 0.9174 - accuracy: 0.6400\n",
            "Epoch 358/500\n",
            "5/5 [==============================] - 0s 7ms/step - loss: 0.8914 - accuracy: 0.6600\n",
            "Epoch 359/500\n",
            "5/5 [==============================] - 0s 7ms/step - loss: 0.9308 - accuracy: 0.6800\n",
            "Epoch 360/500\n",
            "5/5 [==============================] - 0s 9ms/step - loss: 0.9089 - accuracy: 0.6600\n",
            "Epoch 361/500\n",
            "5/5 [==============================] - 0s 8ms/step - loss: 0.9120 - accuracy: 0.6800\n",
            "Epoch 362/500\n",
            "5/5 [==============================] - 0s 7ms/step - loss: 0.9273 - accuracy: 0.6400\n",
            "Epoch 363/500\n",
            "5/5 [==============================] - 0s 9ms/step - loss: 0.9102 - accuracy: 0.6200\n",
            "Epoch 364/500\n",
            "5/5 [==============================] - 0s 7ms/step - loss: 0.9089 - accuracy: 0.6400\n",
            "Epoch 365/500\n",
            "5/5 [==============================] - 0s 7ms/step - loss: 0.9132 - accuracy: 0.6400\n",
            "Epoch 366/500\n",
            "5/5 [==============================] - 0s 7ms/step - loss: 0.8992 - accuracy: 0.6600\n",
            "Epoch 367/500\n",
            "5/5 [==============================] - 0s 7ms/step - loss: 0.9029 - accuracy: 0.6800\n",
            "Epoch 368/500\n",
            "5/5 [==============================] - 0s 7ms/step - loss: 0.9024 - accuracy: 0.6400\n",
            "Epoch 369/500\n",
            "5/5 [==============================] - 0s 7ms/step - loss: 0.9180 - accuracy: 0.6400\n",
            "Epoch 370/500\n",
            "5/5 [==============================] - 0s 7ms/step - loss: 0.9485 - accuracy: 0.6200\n",
            "Epoch 371/500\n",
            "5/5 [==============================] - 0s 6ms/step - loss: 0.9636 - accuracy: 0.5400\n",
            "Epoch 372/500\n",
            "5/5 [==============================] - 0s 7ms/step - loss: 1.0276 - accuracy: 0.5600\n",
            "Epoch 373/500\n",
            "5/5 [==============================] - 0s 8ms/step - loss: 1.0061 - accuracy: 0.5400\n",
            "Epoch 374/500\n",
            "5/5 [==============================] - 0s 7ms/step - loss: 0.9306 - accuracy: 0.6400\n",
            "Epoch 375/500\n",
            "5/5 [==============================] - 0s 6ms/step - loss: 0.9316 - accuracy: 0.6200\n",
            "Epoch 376/500\n",
            "5/5 [==============================] - 0s 6ms/step - loss: 0.9244 - accuracy: 0.6400\n",
            "Epoch 377/500\n",
            "5/5 [==============================] - 0s 9ms/step - loss: 0.9282 - accuracy: 0.6600\n",
            "Epoch 378/500\n",
            "5/5 [==============================] - 0s 8ms/step - loss: 0.9075 - accuracy: 0.6400\n",
            "Epoch 379/500\n",
            "5/5 [==============================] - 0s 6ms/step - loss: 0.9361 - accuracy: 0.6200\n",
            "Epoch 380/500\n",
            "5/5 [==============================] - 0s 7ms/step - loss: 0.9335 - accuracy: 0.6400\n",
            "Epoch 381/500\n",
            "5/5 [==============================] - 0s 7ms/step - loss: 0.9107 - accuracy: 0.6800\n",
            "Epoch 382/500\n",
            "5/5 [==============================] - 0s 7ms/step - loss: 0.9282 - accuracy: 0.6400\n",
            "Epoch 383/500\n",
            "5/5 [==============================] - 0s 8ms/step - loss: 0.9150 - accuracy: 0.6600\n",
            "Epoch 384/500\n",
            "5/5 [==============================] - 0s 7ms/step - loss: 0.9126 - accuracy: 0.6400\n",
            "Epoch 385/500\n",
            "5/5 [==============================] - 0s 7ms/step - loss: 0.9161 - accuracy: 0.6400\n",
            "Epoch 386/500\n",
            "5/5 [==============================] - 0s 7ms/step - loss: 0.9387 - accuracy: 0.6600\n",
            "Epoch 387/500\n",
            "5/5 [==============================] - 0s 9ms/step - loss: 0.9144 - accuracy: 0.6400\n",
            "Epoch 388/500\n",
            "5/5 [==============================] - 0s 9ms/step - loss: 0.9066 - accuracy: 0.6600\n",
            "Epoch 389/500\n",
            "5/5 [==============================] - 0s 7ms/step - loss: 0.9053 - accuracy: 0.6800\n",
            "Epoch 390/500\n",
            "5/5 [==============================] - 0s 7ms/step - loss: 0.9170 - accuracy: 0.6400\n",
            "Epoch 391/500\n",
            "5/5 [==============================] - 0s 7ms/step - loss: 0.9351 - accuracy: 0.6400\n",
            "Epoch 392/500\n",
            "5/5 [==============================] - 0s 8ms/step - loss: 0.9442 - accuracy: 0.6400\n",
            "Epoch 393/500\n",
            "5/5 [==============================] - 0s 8ms/step - loss: 0.8961 - accuracy: 0.6600\n",
            "Epoch 394/500\n",
            "5/5 [==============================] - 0s 7ms/step - loss: 0.9084 - accuracy: 0.6400\n",
            "Epoch 395/500\n",
            "5/5 [==============================] - 0s 7ms/step - loss: 0.9043 - accuracy: 0.6400\n",
            "Epoch 396/500\n",
            "5/5 [==============================] - 0s 8ms/step - loss: 0.9188 - accuracy: 0.6600\n",
            "Epoch 397/500\n",
            "5/5 [==============================] - 0s 9ms/step - loss: 0.9196 - accuracy: 0.6800\n",
            "Epoch 398/500\n",
            "5/5 [==============================] - 0s 7ms/step - loss: 0.9389 - accuracy: 0.6400\n",
            "Epoch 399/500\n",
            "5/5 [==============================] - 0s 7ms/step - loss: 0.9085 - accuracy: 0.6400\n",
            "Epoch 400/500\n",
            "5/5 [==============================] - 0s 7ms/step - loss: 0.9264 - accuracy: 0.6400\n",
            "Epoch 401/500\n",
            "5/5 [==============================] - 0s 8ms/step - loss: 0.9175 - accuracy: 0.6600\n",
            "Epoch 402/500\n",
            "5/5 [==============================] - 0s 8ms/step - loss: 0.9170 - accuracy: 0.6600\n",
            "Epoch 403/500\n",
            "5/5 [==============================] - 0s 7ms/step - loss: 0.8948 - accuracy: 0.6400\n",
            "Epoch 404/500\n",
            "5/5 [==============================] - 0s 7ms/step - loss: 0.8969 - accuracy: 0.6600\n",
            "Epoch 405/500\n",
            "5/5 [==============================] - 0s 7ms/step - loss: 0.8814 - accuracy: 0.6600\n",
            "Epoch 406/500\n",
            "5/5 [==============================] - 0s 7ms/step - loss: 0.9164 - accuracy: 0.6400\n",
            "Epoch 407/500\n",
            "5/5 [==============================] - 0s 8ms/step - loss: 0.9055 - accuracy: 0.6400\n",
            "Epoch 408/500\n",
            "5/5 [==============================] - 0s 7ms/step - loss: 0.9038 - accuracy: 0.6600\n",
            "Epoch 409/500\n",
            "5/5 [==============================] - 0s 7ms/step - loss: 0.9145 - accuracy: 0.6400\n",
            "Epoch 410/500\n",
            "5/5 [==============================] - 0s 7ms/step - loss: 0.8867 - accuracy: 0.6400\n",
            "Epoch 411/500\n",
            "5/5 [==============================] - 0s 7ms/step - loss: 0.9091 - accuracy: 0.6400\n",
            "Epoch 412/500\n",
            "5/5 [==============================] - 0s 8ms/step - loss: 0.9356 - accuracy: 0.6400\n",
            "Epoch 413/500\n",
            "5/5 [==============================] - 0s 7ms/step - loss: 0.9136 - accuracy: 0.6200\n",
            "Epoch 414/500\n",
            "5/5 [==============================] - 0s 7ms/step - loss: 0.8992 - accuracy: 0.6600\n",
            "Epoch 415/500\n",
            "5/5 [==============================] - 0s 7ms/step - loss: 0.8940 - accuracy: 0.6800\n",
            "Epoch 416/500\n",
            "5/5 [==============================] - 0s 7ms/step - loss: 0.9121 - accuracy: 0.6400\n",
            "Epoch 417/500\n",
            "5/5 [==============================] - 0s 7ms/step - loss: 0.9247 - accuracy: 0.6600\n",
            "Epoch 418/500\n",
            "5/5 [==============================] - 0s 8ms/step - loss: 0.9717 - accuracy: 0.6000\n",
            "Epoch 419/500\n",
            "5/5 [==============================] - 0s 8ms/step - loss: 1.0479 - accuracy: 0.6000\n",
            "Epoch 420/500\n",
            "5/5 [==============================] - 0s 7ms/step - loss: 1.0520 - accuracy: 0.5600\n",
            "Epoch 421/500\n",
            "5/5 [==============================] - 0s 7ms/step - loss: 1.0394 - accuracy: 0.5600\n",
            "Epoch 422/500\n",
            "5/5 [==============================] - 0s 7ms/step - loss: 0.9694 - accuracy: 0.6000\n",
            "Epoch 423/500\n",
            "5/5 [==============================] - 0s 9ms/step - loss: 0.9301 - accuracy: 0.6200\n",
            "Epoch 424/500\n",
            "5/5 [==============================] - 0s 7ms/step - loss: 0.9979 - accuracy: 0.5800\n",
            "Epoch 425/500\n",
            "5/5 [==============================] - 0s 10ms/step - loss: 0.9806 - accuracy: 0.6200\n",
            "Epoch 426/500\n",
            "5/5 [==============================] - 0s 7ms/step - loss: 0.9563 - accuracy: 0.6200\n",
            "Epoch 427/500\n",
            "5/5 [==============================] - 0s 7ms/step - loss: 0.9567 - accuracy: 0.6400\n",
            "Epoch 428/500\n",
            "5/5 [==============================] - 0s 8ms/step - loss: 0.9337 - accuracy: 0.6800\n",
            "Epoch 429/500\n",
            "5/5 [==============================] - 0s 8ms/step - loss: 0.9205 - accuracy: 0.6400\n",
            "Epoch 430/500\n",
            "5/5 [==============================] - 0s 9ms/step - loss: 0.9018 - accuracy: 0.5800\n",
            "Epoch 431/500\n",
            "5/5 [==============================] - 0s 7ms/step - loss: 0.9533 - accuracy: 0.5800\n",
            "Epoch 432/500\n",
            "5/5 [==============================] - 0s 8ms/step - loss: 0.9083 - accuracy: 0.6600\n",
            "Epoch 433/500\n",
            "5/5 [==============================] - 0s 8ms/step - loss: 0.9148 - accuracy: 0.6200\n",
            "Epoch 434/500\n",
            "5/5 [==============================] - 0s 7ms/step - loss: 0.8834 - accuracy: 0.6400\n",
            "Epoch 435/500\n",
            "5/5 [==============================] - 0s 8ms/step - loss: 0.8831 - accuracy: 0.6400\n",
            "Epoch 436/500\n",
            "5/5 [==============================] - 0s 8ms/step - loss: 0.9288 - accuracy: 0.6200\n",
            "Epoch 437/500\n",
            "5/5 [==============================] - 0s 7ms/step - loss: 0.8703 - accuracy: 0.6600\n",
            "Epoch 438/500\n",
            "5/5 [==============================] - 0s 7ms/step - loss: 0.8923 - accuracy: 0.6400\n",
            "Epoch 439/500\n",
            "5/5 [==============================] - 0s 7ms/step - loss: 0.9066 - accuracy: 0.6600\n",
            "Epoch 440/500\n",
            "5/5 [==============================] - 0s 7ms/step - loss: 0.9062 - accuracy: 0.6600\n",
            "Epoch 441/500\n",
            "5/5 [==============================] - 0s 8ms/step - loss: 0.8826 - accuracy: 0.6800\n",
            "Epoch 442/500\n",
            "5/5 [==============================] - 0s 8ms/step - loss: 0.9016 - accuracy: 0.6400\n",
            "Epoch 443/500\n",
            "5/5 [==============================] - 0s 8ms/step - loss: 0.9130 - accuracy: 0.6600\n",
            "Epoch 444/500\n",
            "5/5 [==============================] - 0s 8ms/step - loss: 0.8937 - accuracy: 0.6600\n",
            "Epoch 445/500\n",
            "5/5 [==============================] - 0s 8ms/step - loss: 0.8735 - accuracy: 0.6600\n",
            "Epoch 446/500\n",
            "5/5 [==============================] - 0s 7ms/step - loss: 0.8955 - accuracy: 0.6400\n",
            "Epoch 447/500\n",
            "5/5 [==============================] - 0s 9ms/step - loss: 0.8977 - accuracy: 0.6600\n",
            "Epoch 448/500\n",
            "5/5 [==============================] - 0s 10ms/step - loss: 0.9072 - accuracy: 0.6400\n",
            "Epoch 449/500\n",
            "5/5 [==============================] - 0s 7ms/step - loss: 0.9073 - accuracy: 0.6800\n",
            "Epoch 450/500\n",
            "5/5 [==============================] - 0s 7ms/step - loss: 1.0418 - accuracy: 0.6000\n",
            "Epoch 451/500\n",
            "5/5 [==============================] - 0s 7ms/step - loss: 0.9437 - accuracy: 0.6200\n",
            "Epoch 452/500\n",
            "5/5 [==============================] - 0s 8ms/step - loss: 0.9589 - accuracy: 0.6200\n",
            "Epoch 453/500\n",
            "5/5 [==============================] - 0s 7ms/step - loss: 0.9176 - accuracy: 0.6600\n",
            "Epoch 454/500\n",
            "5/5 [==============================] - 0s 7ms/step - loss: 0.9025 - accuracy: 0.6400\n",
            "Epoch 455/500\n",
            "5/5 [==============================] - 0s 7ms/step - loss: 0.9263 - accuracy: 0.6600\n",
            "Epoch 456/500\n",
            "5/5 [==============================] - 0s 7ms/step - loss: 0.8893 - accuracy: 0.6600\n",
            "Epoch 457/500\n",
            "5/5 [==============================] - 0s 7ms/step - loss: 0.8741 - accuracy: 0.6600\n",
            "Epoch 458/500\n",
            "5/5 [==============================] - 0s 8ms/step - loss: 0.8877 - accuracy: 0.6400\n",
            "Epoch 459/500\n",
            "5/5 [==============================] - 0s 8ms/step - loss: 0.8827 - accuracy: 0.6400\n",
            "Epoch 460/500\n",
            "5/5 [==============================] - 0s 8ms/step - loss: 0.8818 - accuracy: 0.6400\n",
            "Epoch 461/500\n",
            "5/5 [==============================] - 0s 9ms/step - loss: 0.8803 - accuracy: 0.6400\n",
            "Epoch 462/500\n",
            "5/5 [==============================] - 0s 7ms/step - loss: 0.8838 - accuracy: 0.6800\n",
            "Epoch 463/500\n",
            "5/5 [==============================] - 0s 8ms/step - loss: 0.8819 - accuracy: 0.6600\n",
            "Epoch 464/500\n",
            "5/5 [==============================] - 0s 9ms/step - loss: 0.8750 - accuracy: 0.6600\n",
            "Epoch 465/500\n",
            "5/5 [==============================] - 0s 7ms/step - loss: 0.9204 - accuracy: 0.6400\n",
            "Epoch 466/500\n",
            "5/5 [==============================] - 0s 7ms/step - loss: 0.8926 - accuracy: 0.6400\n",
            "Epoch 467/500\n",
            "5/5 [==============================] - 0s 8ms/step - loss: 0.9160 - accuracy: 0.6400\n",
            "Epoch 468/500\n",
            "5/5 [==============================] - 0s 10ms/step - loss: 0.9054 - accuracy: 0.6200\n",
            "Epoch 469/500\n",
            "5/5 [==============================] - 0s 9ms/step - loss: 0.9774 - accuracy: 0.5800\n",
            "Epoch 470/500\n",
            "5/5 [==============================] - 0s 7ms/step - loss: 1.1200 - accuracy: 0.4600\n",
            "Epoch 471/500\n",
            "5/5 [==============================] - 0s 8ms/step - loss: 1.1064 - accuracy: 0.5600\n",
            "Epoch 472/500\n",
            "5/5 [==============================] - 0s 9ms/step - loss: 1.0687 - accuracy: 0.5400\n",
            "Epoch 473/500\n",
            "5/5 [==============================] - 0s 7ms/step - loss: 0.9526 - accuracy: 0.6400\n",
            "Epoch 474/500\n",
            "5/5 [==============================] - 0s 7ms/step - loss: 0.8917 - accuracy: 0.6800\n",
            "Epoch 475/500\n",
            "5/5 [==============================] - 0s 7ms/step - loss: 0.9721 - accuracy: 0.6000\n",
            "Epoch 476/500\n",
            "5/5 [==============================] - 0s 8ms/step - loss: 0.9187 - accuracy: 0.6200\n",
            "Epoch 477/500\n",
            "5/5 [==============================] - 0s 9ms/step - loss: 0.9083 - accuracy: 0.6600\n",
            "Epoch 478/500\n",
            "5/5 [==============================] - 0s 8ms/step - loss: 0.9040 - accuracy: 0.6600\n",
            "Epoch 479/500\n",
            "5/5 [==============================] - 0s 8ms/step - loss: 0.9278 - accuracy: 0.6600\n",
            "Epoch 480/500\n",
            "5/5 [==============================] - 0s 7ms/step - loss: 0.9452 - accuracy: 0.6000\n",
            "Epoch 481/500\n",
            "5/5 [==============================] - 0s 9ms/step - loss: 1.0046 - accuracy: 0.6000\n",
            "Epoch 482/500\n",
            "5/5 [==============================] - 0s 10ms/step - loss: 1.0151 - accuracy: 0.6400\n",
            "Epoch 483/500\n",
            "5/5 [==============================] - 0s 7ms/step - loss: 0.9835 - accuracy: 0.5800\n",
            "Epoch 484/500\n",
            "5/5 [==============================] - 0s 8ms/step - loss: 1.0745 - accuracy: 0.5200\n",
            "Epoch 485/500\n",
            "5/5 [==============================] - 0s 8ms/step - loss: 0.9545 - accuracy: 0.6000\n",
            "Epoch 486/500\n",
            "5/5 [==============================] - 0s 8ms/step - loss: 1.2231 - accuracy: 0.5000\n",
            "Epoch 487/500\n",
            "5/5 [==============================] - 0s 8ms/step - loss: 1.0214 - accuracy: 0.6600\n",
            "Epoch 488/500\n",
            "5/5 [==============================] - 0s 8ms/step - loss: 0.9854 - accuracy: 0.6600\n",
            "Epoch 489/500\n",
            "5/5 [==============================] - 0s 9ms/step - loss: 0.9685 - accuracy: 0.5400\n",
            "Epoch 490/500\n",
            "5/5 [==============================] - 0s 10ms/step - loss: 0.9385 - accuracy: 0.6600\n",
            "Epoch 491/500\n",
            "5/5 [==============================] - 0s 8ms/step - loss: 0.9311 - accuracy: 0.6200\n",
            "Epoch 492/500\n",
            "5/5 [==============================] - 0s 7ms/step - loss: 0.9114 - accuracy: 0.6400\n",
            "Epoch 493/500\n",
            "5/5 [==============================] - 0s 9ms/step - loss: 0.8861 - accuracy: 0.6600\n",
            "Epoch 494/500\n",
            "5/5 [==============================] - 0s 7ms/step - loss: 0.9164 - accuracy: 0.6400\n",
            "Epoch 495/500\n",
            "5/5 [==============================] - 0s 8ms/step - loss: 0.9125 - accuracy: 0.6400\n",
            "Epoch 496/500\n",
            "5/5 [==============================] - 0s 8ms/step - loss: 0.9026 - accuracy: 0.6600\n",
            "Epoch 497/500\n",
            "5/5 [==============================] - 0s 8ms/step - loss: 0.8972 - accuracy: 0.6400\n",
            "Epoch 498/500\n",
            "5/5 [==============================] - 0s 9ms/step - loss: 0.8808 - accuracy: 0.6600\n",
            "Epoch 499/500\n",
            "5/5 [==============================] - 0s 8ms/step - loss: 0.8880 - accuracy: 0.6600\n",
            "Epoch 500/500\n",
            "5/5 [==============================] - 0s 8ms/step - loss: 0.8770 - accuracy: 0.6200\n"
          ],
          "name": "stdout"
        }
      ]
    },
    {
      "cell_type": "code",
      "metadata": {
        "colab": {
          "base_uri": "https://localhost:8080/"
        },
        "id": "zahFCrbqi1Be",
        "outputId": "0e72b772-2978-4108-db9e-8f10555ae15f"
      },
      "source": [
        "model.evaluate(X_train, y_train)"
      ],
      "execution_count": 62,
      "outputs": [
        {
          "output_type": "stream",
          "text": [
            "2/2 [==============================] - 0s 8ms/step - loss: 1.0110 - accuracy: 0.6000\n"
          ],
          "name": "stdout"
        },
        {
          "output_type": "execute_result",
          "data": {
            "text/plain": [
              "[1.0110150575637817, 0.6000000238418579]"
            ]
          },
          "metadata": {
            "tags": []
          },
          "execution_count": 62
        }
      ]
    },
    {
      "cell_type": "code",
      "metadata": {
        "colab": {
          "base_uri": "https://localhost:8080/"
        },
        "id": "KrFrYGEnsm7y",
        "outputId": "a4cc2d36-2b43-4cf8-b3a4-1e3d5966b237"
      },
      "source": [
        "X_train[0:1]"
      ],
      "execution_count": 50,
      "outputs": [
        {
          "output_type": "execute_result",
          "data": {
            "text/plain": [
              "array([[[0.05612245],\n",
              "        [0.04591837],\n",
              "        [0.01020408],\n",
              "        [0.05102041]]])"
            ]
          },
          "metadata": {
            "tags": []
          },
          "execution_count": 50
        }
      ]
    },
    {
      "cell_type": "code",
      "metadata": {
        "colab": {
          "base_uri": "https://localhost:8080/"
        },
        "id": "P1z4JkpQlwmG",
        "outputId": "e4ae8b3b-b531-4d33-f9a5-5ffbdcb5b85f"
      },
      "source": [
        "model.predict(X_train[0:1])"
      ],
      "execution_count": 24,
      "outputs": [
        {
          "output_type": "execute_result",
          "data": {
            "text/plain": [
              "array([[2.39198078e-10, 2.53607030e-03, 1.91697896e-01, 4.80485585e-04,\n",
              "        1.31548829e-02, 2.26481167e-10, 5.00262387e-10, 1.51306177e-02,\n",
              "        3.62014860e-01, 2.55531371e-01, 1.08837664e-01, 5.06161116e-02,\n",
              "        3.89160593e-10, 7.04866651e-11]], dtype=float32)"
            ]
          },
          "metadata": {
            "tags": []
          },
          "execution_count": 24
        }
      ]
    },
    {
      "cell_type": "code",
      "metadata": {
        "id": "7yFL7OOYs3kV"
      },
      "source": [
        "pred = model.predict(X_train[0:1])"
      ],
      "execution_count": 34,
      "outputs": []
    },
    {
      "cell_type": "code",
      "metadata": {
        "colab": {
          "base_uri": "https://localhost:8080/"
        },
        "id": "IwgEz8VrtX14",
        "outputId": "2fcd1b9f-18a3-478d-9abb-644867f73657"
      },
      "source": [
        "np.argmax(pred)"
      ],
      "execution_count": 35,
      "outputs": [
        {
          "output_type": "execute_result",
          "data": {
            "text/plain": [
              "8"
            ]
          },
          "metadata": {
            "tags": []
          },
          "execution_count": 35
        }
      ]
    },
    {
      "cell_type": "code",
      "metadata": {
        "colab": {
          "base_uri": "https://localhost:8080/"
        },
        "id": "LNnSP0Gl2TKy",
        "outputId": "dc666aa7-f46e-41ee-815d-0beeb6f6a9f2"
      },
      "source": [
        "y_pred = list()\n",
        "for i in range(len(X_train)):\n",
        "  pred = model.predict(X_train[i:i+1])\n",
        "  arg = np.argmax(pred)\n",
        "  y_pred.append(arg)\n",
        "print(y_pred)"
      ],
      "execution_count": 66,
      "outputs": [
        {
          "output_type": "stream",
          "text": [
            "[8, 1, 7, 9, 11, 11, 9, 9, 9, 11, 2, 9, 9, 8, 9, 4, 9, 9, 11, 11, 9, 9, 2, 8, 8, 1, 8, 9, 9, 9, 9, 9, 1, 9, 9, 9, 9, 4, 9, 2, 10, 8, 1, 7, 9, 11, 11, 9, 9, 2]\n"
          ],
          "name": "stdout"
        }
      ]
    },
    {
      "cell_type": "code",
      "metadata": {
        "id": "QOPaWmi0szsn"
      },
      "source": [
        "import matplotlib.pyplot as plt"
      ],
      "execution_count": 27,
      "outputs": []
    },
    {
      "cell_type": "code",
      "metadata": {
        "colab": {
          "base_uri": "https://localhost:8080/",
          "height": 265
        },
        "id": "Xw1OZJ-00Rdf",
        "outputId": "aef596b6-4500-4800-d8a9-fb644d43f8cb"
      },
      "source": [
        "plt.plot(y_train)\n",
        "plt.plot(y_pred)\n",
        "plt.show()"
      ],
      "execution_count": 67,
      "outputs": [
        {
          "output_type": "display_data",
          "data": {
            "image/png": "[encoded data removed]",
            "text/plain": [
              "<Figure size 432x288 with 1 Axes>"
            ]
          },
          "metadata": {
            "tags": [],
            "needs_background": "light"
          }
        }
      ]
    },
    {
      "cell_type": "code",
      "metadata": {
        "id": "gU2z5s_10SkW"
      },
      "source": [
        ""
      ],
      "execution_count": null,
      "outputs": []
    }
  ]
}