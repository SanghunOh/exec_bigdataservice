{
  "nbformat": 4,
  "nbformat_minor": 0,
  "metadata": {
    "colab": {
      "name": "deepLearning.ipynb",
      "provenance": [],
      "mount_file_id": "1UYr0Ij0zaAaikywOKekgIecgsPttlqkv",
      "authorship_tag": "ABX9TyMxy0QrvzZoGLKc+2dEM3+h"
    },
    "kernelspec": {
      "name": "python3",
      "display_name": "Python 3"
    },
    "language_info": {
      "name": "python"
    }
  },
  "cells": [
    {
      "cell_type": "code",
      "metadata": {
        "colab": {
          "base_uri": "https://localhost:8080/"
        },
        "id": "t499fRPQIGvr",
        "outputId": "49e1dbd5-9f50-4767-94f1-ee4d6be2295b"
      },
      "source": [
        "from google.colab import drive\n",
        "drive.mount('/content/drive')"
      ],
      "execution_count": 53,
      "outputs": [
        {
          "output_type": "stream",
          "text": [
            "Drive already mounted at /content/drive; to attempt to forcibly remount, call drive.mount(\"/content/drive\", force_remount=True).\n"
          ],
          "name": "stdout"
        }
      ]
    },
    {
      "cell_type": "code",
      "metadata": {
        "id": "LiJrWIL4H_8h"
      },
      "source": [
        "import pandas as pd"
      ],
      "execution_count": 1,
      "outputs": []
    },
    {
      "cell_type": "code",
      "metadata": {
        "id": "mhc1aPa8T9w4"
      },
      "source": [
        "df = pd.read_excel('./sample.xls', names=['title', 'press', 'category', 'date', 'name', 'text'])"
      ],
      "execution_count": 8,
      "outputs": []
    },
    {
      "cell_type": "code",
      "metadata": {
        "id": "ul-_UKHOTsd4"
      },
      "source": [
        "import codecs"
      ],
      "execution_count": null,
      "outputs": []
    },
    {
      "cell_type": "code",
      "metadata": {
        "id": "C-8GLcWqTvur"
      },
      "source": [
        "positive= []\n",
        "nagative = []\n",
        "posneg = []"
      ],
      "execution_count": null,
      "outputs": []
    },
    {
      "cell_type": "code",
      "metadata": {
        "colab": {
          "base_uri": "https://localhost:8080/"
        },
        "id": "wCs5tINlURGC",
        "outputId": "c9c731ef-bd6c-436d-80e4-c208032e6d9d"
      },
      "source": [
        "!curl -O https://raw.githubusercontent.com/konlpy/konlpy/master/scripts/mecab.sh"
      ],
      "execution_count": 10,
      "outputs": [
        {
          "output_type": "stream",
          "text": [
            "  % Total    % Received % Xferd  Average Speed   Time    Time     Time  Current\n",
            "                                 Dload  Upload   Total   Spent    Left  Speed\n",
            "\r  0     0    0     0    0     0      0      0 --:--:-- --:--:-- --:--:--     0\r100  5064  100  5064    0     0  71323      0 --:--:-- --:--:-- --:--:-- 71323\n"
          ],
          "name": "stdout"
        }
      ]
    },
    {
      "cell_type": "code",
      "metadata": {
        "id": "kmi-_R5hUTkO"
      },
      "source": [
        "!bash ./mecab.sh"
      ],
      "execution_count": null,
      "outputs": []
    },
    {
      "cell_type": "code",
      "metadata": {
        "colab": {
          "base_uri": "https://localhost:8080/"
        },
        "id": "mv5bX4vZUNWS",
        "outputId": "3cc600c0-c43f-4d2a-d50b-c958c6ed93d6"
      },
      "source": [
        "df['text'].str.replace('[^가-힣ㄱ-ㅎㅠ ]','')"
      ],
      "execution_count": 45,
      "outputs": [
        {
          "output_type": "execute_result",
          "data": {
            "text/plain": [
              "0     중국에서  떨어진 발트해 연안 국가 리투아니아가 대만 문제를 두고 중국과 갈등을 빚...\n",
              "1     국민의힘 내홍이 깊어지고 있다 이준석 대표와 윤석열 전 검찰총장 등 투스톤준스톤윤스...\n",
              "2     법관에게 직장 내 갑질 및 괴롭힘을 당했다며 도움을 호소하는 법원 직원의 글이 법원...\n",
              "3     코로나 신규 확진자가 일 사상 처음으로 명을 돌파하자 여권은 노심초사하며 난처한 분...\n",
              "4     류호정 정의당 의원은 새로운 쇼를 궁리 중이라고 했다 이번엔 강간죄 개정을 위해서다...\n",
              "                            ...                        \n",
              "94    문화재청이 영양 송하리 졸참나무와 당숲을 국가지정문화재 천연기념물로 지정 예고했다졸...\n",
              "95    정부가 섬유제지 산업에서 탄소배출량을 줄이는 기술 개발에 투자를 강화한다산업통상자원...\n",
              "96    국토교통부는 현대자동차와  등 개 차종 총 만대에서 제작결함이 발견돼 시정조치리콜에...\n",
              "97    더불어민주당 대선 경선 후보인 박용진 의원은 일 차 산업혁명 대통령이 되겠다고 말했...\n",
              "98    이준석 국민의힘 대표는 일 우리 후보들 곁에 권력욕을 부추기는 하이에나가 아니라 밝...\n",
              "Name: text, Length: 99, dtype: object"
            ]
          },
          "metadata": {
            "tags": []
          },
          "execution_count": 45
        }
      ]
    },
    {
      "cell_type": "code",
      "metadata": {
        "id": "SvG4fc6cTqHy"
      },
      "source": [
        "!python -m pip install konlpy"
      ],
      "execution_count": null,
      "outputs": []
    },
    {
      "cell_type": "code",
      "metadata": {
        "id": "n7xVUJXhUVhK"
      },
      "source": [
        "from konlpy.tag import Mecab"
      ],
      "execution_count": 15,
      "outputs": []
    },
    {
      "cell_type": "code",
      "metadata": {
        "id": "smPGZadPUZEq"
      },
      "source": [
        "mecab = Mecab()"
      ],
      "execution_count": 16,
      "outputs": []
    },
    {
      "cell_type": "code",
      "metadata": {
        "id": "bWzSn7mPUbCp"
      },
      "source": [
        "sentance = list()\n",
        "stopwords = ['은', '도', '는', '다', '의', '가', '이', '했', '한', '에', '하', '고', '을', '를', '인', '듯', '과', '와', '네', '들', '듯', '지', '임', '게', '것', '었', ',' , '.', '>', '<', ')', '(', '라고', '다고', '라며', '면서', '라면서', '로써', '로서','로','으로','뿐' ]"
      ],
      "execution_count": null,
      "outputs": []
    },
    {
      "cell_type": "code",
      "metadata": {
        "id": "rl1VT3q7Ue8q"
      },
      "source": [
        "articles =list()\n",
        "\n",
        "\n",
        "for tok in df['text'] :\n",
        "  encoded = mecab.morphs(tok)\n",
        "  articles.append([item for item in encoded if item not in stopwords])\n"
      ],
      "execution_count": 157,
      "outputs": []
    },
    {
      "cell_type": "code",
      "metadata": {
        "colab": {
          "base_uri": "https://localhost:8080/"
        },
        "id": "elq0Tv2xPQvV",
        "outputId": "c3b075b7-2da6-4b69-ebab-1fa2e275fd4e"
      },
      "source": [
        "print(articles[0])"
      ],
      "execution_count": 153,
      "outputs": [
        {
          "output_type": "stream",
          "text": [
            "['중국', '에서', '6000', 'km', '떨어진', '발트해', '연안', '국가', '리투아니아', '‘', '대만', '문제', '’', '두', '중국', '갈등', '빚', '있', '리투아니아', '대만', '대표부', '허용', '다는', '이유', '로', '중국', '정부', '대사', '소환', '요구', '데', '어', '양국', '단교', '가능', '성', '거론', '된다', '중국', '관영', '매체', '환구', '시보', '11', '일', '전문가', '인용', '해', '“', '리투아니아', '중국', '도전', '행동', '계속', '한다면', '양국', '단교', '국면', '으로', '배제', '할', '수', '없', '”', '보도', '전날', '중국', '외교부', '대면', '명의', '로', '“', '리투아니아', '대만', '대표', '처', '설립', '허용', '해', '중국', '주권', '영토', '보전', '심각', '침해', '”', '며', '자국', '대사', '소환', '겠', '밝혔', '리투아니아', '정부', '주중', '대사', '불러들이', '요구', '중국', '외교부', '“', '우리', '리투아니아', '정부', '즉각', '잘못', '바로잡', '실질', '적', '조처', '동시', '잘', '못', '된', '길', '더', '멀리', '말', '당부', '한다', '”', '고도', '밝혔', '중국', '해외', '대사', '소환', '26', '년', '만', '대사', '소환', '단교', '다음', '으로', '심각', '조치', '로', '여겨진다', '중국', '1995', '년', '미국', '정부', '리덩후이', '전', '대만', '총통', '방미', '허용', '때', '당시', '미국', '주재', '대사', '소환', '리투아니아', '중국', '물러서', '않', '전망', '사우스', '차이나', '모닝', '포스트', 'SCMP', '따르', '면', '10', '일', '열린', '리투아니아', '의회', '임시', '본회의', '에서', '“', '지기', '만타스', '파', '빌리', '오', '니스', '집권', '조국', '연합', '-', '기독', '민주당', '의원', '“', '우리', '리투아니아', '통상', '상호', '적', '조치', '취하', '만큼', '우리', '주중', '대사', '소환', '될', '”', '말', '다만', '야권', '농민', '녹색연합', '소속', '지에드', '리우스', '서', '플리스', '의원', '“', '대만', '문제', '좀', '더', '외교', '적', '으로', '다룰', '필요', '있', '”', '말', '이날', '회의', '당초', '벨라루스', '국경', '페쇄', '문제', '논의', '기', '위해', '열', '렸으나', '중국', '측', '요구', '로', '대사', '소환', '문제', '함께', '다뤄졌', '네드', '프라이스', '미', '국무부', '대변인', '이날', '정례', '브리핑', '에서', '중국', '리투아니아', '대한', '보복', '규탄', '한다고', '말', '리투아니아', '대만', '문제', '로', '중국', '심기', '불편', '이번', '처음', '아니', '리투아니아', '지난', '5', '월', '중국', '주도', '동유럽', '인프라', '투자', '논의', '협의', '체인', '‘', '17', '+', '1', '정상', '회의', '’', '탈퇴', '같', '달', '리투아니아', '의회', '중국', '신장', '위구르', '지역', '주민', '대한', '중국', '정부', '정책', '‘', '인종', '학살', '’', '로', '규정', '결의안', '통과', '시켰', '지난달', '대만', '코로나', '19', '백신', '2', '만', '회분', '지원', '발트', '3', '국', '으로', '불리', '리투아니아', '·', '라트비아', '·', '에스토니아', '과거', '러시아', '제국', '합병', '된', '상태', '에서', '소련', '편입', '됐', '공산혁명', '없이', '강제', '로', '공산주의', '체제', '편입', '된', '소련', '상대', '로', '민주', '화', '시위', '로', '숱하', '벌였', '1991', '년', '독립', '이런', '경험', '으로', '큰', '나라', '작', '나라', '압박', '강한', '거', '부감', '갖', '있', '평가', '된다', '리투아니아', '중국', '대한', '경제', '의존도', '낮', '올해', '상반기', '리투아니아', '대', '중국', '무역', '적자', '8', '억', '2070', '만', '달러', '약', '9400', '억', '원', '로', '전년', '보다', '33', '%', '증가', '으로', '나타났', '17', '+', '1', '협의', '체', '탈퇴', '배경', '으로', '거론', '된다', '정재원', '국민대', '교수', '“', '리투아니아', '역사', '적', '경험', '더', '해', '중국', '경제', '적', '으로', '얽혀', '있', '않', '다는', '점', '리투아니아', '행보', '가능', '”', '말', '박은하', '기자', 'eunha', '999', '@', 'kyunghyang', 'com']\n"
          ],
          "name": "stdout"
        }
      ]
    },
    {
      "cell_type": "code",
      "metadata": {
        "id": "EIKmro6yMxNX"
      },
      "source": [
        "senti_dict = pd.read_table('SentiWord_Dict.txt', names=['term','score'])\n",
        "pos_dict = pd.read_table('pos_pol_word.txt')\n",
        "neg_dict = pd.read_table('neg_pol_word.txt')"
      ],
      "execution_count": null,
      "outputs": []
    },
    {
      "cell_type": "markdown",
      "metadata": {
        "id": "6HXsmuqPj0Br"
      },
      "source": [
        "감성단어사전 중복 제거"
      ]
    },
    {
      "cell_type": "code",
      "metadata": {
        "id": "O-wmhKZyT_2p"
      },
      "source": [
        "senti_dict.drop_duplicates(subset=None,inplace=True)"
      ],
      "execution_count": 52,
      "outputs": []
    },
    {
      "cell_type": "code",
      "metadata": {
        "id": "LJmmadShqj4J"
      },
      "source": [
        "data_senti_pos = cnt\n",
        "data_senti_neg ="
      ],
      "execution_count": null,
      "outputs": []
    },
    {
      "cell_type": "code",
      "metadata": {
        "id": "jf1XoDvLSiSd"
      },
      "source": [
        "def test_sentence(sentence, tokenizer, model_path):\n",
        "\n"
      ],
      "execution_count": null,
      "outputs": []
    },
    {
      "cell_type": "code",
      "metadata": {
        "id": "HI_cAA5gVGfo"
      },
      "source": [
        "pos_subset = pos_dict"
      ],
      "execution_count": null,
      "outputs": []
    },
    {
      "cell_type": "markdown",
      "metadata": {
        "id": "8KGgt-_OnfiL"
      },
      "source": [
        "# https://blog.naver.com/wjdrudtn0225/221764367227"
      ]
    },
    {
      "cell_type": "code",
      "metadata": {
        "id": "lg1_psHBniBZ"
      },
      "source": [
        "import matplotlib as mpl\n",
        "import matplotlib.pyplot as plt"
      ],
      "execution_count": 61,
      "outputs": []
    },
    {
      "cell_type": "code",
      "metadata": {
        "id": "hqaM-xRnnlMq"
      },
      "source": [
        "%config InlineBackend.figure_format = 'retina'"
      ],
      "execution_count": 55,
      "outputs": []
    },
    {
      "cell_type": "code",
      "metadata": {
        "colab": {
          "base_uri": "https://localhost:8080/"
        },
        "id": "bL4tGZcFnqaZ",
        "outputId": "e816ece1-27a5-4d7d-89e6-3c63cc263554"
      },
      "source": [
        "!apt =qq -y install fonts-nanum"
      ],
      "execution_count": 56,
      "outputs": [
        {
          "output_type": "stream",
          "text": [
            "E: Invalid operation =qq\n"
          ],
          "name": "stdout"
        }
      ]
    },
    {
      "cell_type": "code",
      "metadata": {
        "id": "60Zbs8w9nuGJ"
      },
      "source": [
        "import matplotlib.font_manager as fm"
      ],
      "execution_count": 57,
      "outputs": []
    },
    {
      "cell_type": "code",
      "metadata": {
        "id": "eSB65UEtnxcx"
      },
      "source": [
        "fontpath = '/usr/share/fonts/turetype/nanum/NanumBarunGothic.ttf'"
      ],
      "execution_count": 58,
      "outputs": []
    },
    {
      "cell_type": "code",
      "metadata": {
        "id": "V4QPzeNnn6L4"
      },
      "source": [
        "font = fm.FontProperties(fname=fontpath, size =9)"
      ],
      "execution_count": 59,
      "outputs": []
    },
    {
      "cell_type": "code",
      "metadata": {
        "id": "brMApMxXoAfr"
      },
      "source": [
        "plt.rc('font', family='NanumBarunGothic')\n",
        "mpl.font_manager._rebuild()"
      ],
      "execution_count": 62,
      "outputs": []
    },
    {
      "cell_type": "code",
      "metadata": {
        "id": "1Y36R1cNoGh4"
      },
      "source": [
        "def read_data(filename, encoding='cp949'):\n",
        "  with open(filename, 'r', encoding=encoding) as f:\n",
        "    data = [line.split('\\t') for line in f.read().splitlines()]\n",
        "    data = data[1:]\n",
        "  return data"
      ],
      "execution_count": 102,
      "outputs": []
    },
    {
      "cell_type": "code",
      "metadata": {
        "id": "31S1qYZ9ogTp"
      },
      "source": [
        "def wirte_data(data, filename, encoding='cp949'):\n",
        "  with open(filename, 'w', encoding=encoding) as f:\n",
        "    f.write(Data)"
      ],
      "execution_count": 103,
      "outputs": []
    },
    {
      "cell_type": "code",
      "metadata": {
        "id": "FfdCI_aPossw"
      },
      "source": [
        "data = pd.read_excel('sample.xls')"
      ],
      "execution_count": 65,
      "outputs": []
    },
    {
      "cell_type": "code",
      "metadata": {
        "id": "JgOldXPIpJWM"
      },
      "source": [
        "posi = read_data('positive.txt')\n",
        "nega = read_data('negative.txt')"
      ],
      "execution_count": 104,
      "outputs": []
    },
    {
      "cell_type": "code",
      "metadata": {
        "id": "IImoldSLpQah"
      },
      "source": [
        "def cntWord(words, senti):\n",
        "  senti_found = []  \n",
        "  for sent in df['text']: # 기사 전문을 sent로 뽑아냄\n",
        "    sentence = sent.split(' ') # ' '을 기준으로 단어를 나눔\n",
        "    senti_temp = 0\n",
        "    for sentiword in senti: # senti(positive.txt 또는 negative.txt의 단어를 추출)\n",
        "      if sentiword[0] in sentence: # 위에서 나눈 단어에 positive.txt의 단어가 있으면 +1\n",
        "        senti_temp += 1\n",
        "    senti_found.append(senti_temp)\n",
        "  return senti_found"
      ],
      "execution_count": 118,
      "outputs": []
    },
    {
      "cell_type": "code",
      "metadata": {
        "id": "XCAC7XiE9nND"
      },
      "source": [
        "senti_found = []\n",
        "for sent in df['text']:\n",
        "  sentence = sent.split(' ')\n",
        "  print(sentence)\n",
        "  senti_temp = 0\n",
        "  for sentiword in posi:\n",
        "    if sentiword[0] in sentence:\n",
        "      senti_temp += 1\n",
        "    print(senti_temp)\n",
        "  senti_found.append(senti_temp)"
      ],
      "execution_count": null,
      "outputs": []
    },
    {
      "cell_type": "code",
      "metadata": {
        "id": "b4zBrhMbvh9i"
      },
      "source": [
        "def mntWord(words, senti):\n",
        "  senti_found = []\n",
        "  for sent in df['text']:\n",
        "    sentence = sent.split(' ')\n",
        "    senti_temp =0\n",
        "    for sentiword in senti:\n",
        "      if sentiword[0] in sentence:\n",
        "        senti_temp -= 1\n",
        "    senti_found.append(senti_temp)\n",
        "  return senti_found"
      ],
      "execution_count": 92,
      "outputs": []
    },
    {
      "cell_type": "code",
      "metadata": {
        "id": "4OdtrG5Zrt0V"
      },
      "source": [
        "x_data = df['text'][0]\n",
        "x_data"
      ],
      "execution_count": null,
      "outputs": []
    },
    {
      "cell_type": "code",
      "metadata": {
        "colab": {
          "base_uri": "https://localhost:8080/"
        },
        "id": "YoZ6RJrzrb0r",
        "outputId": "ce29f020-9b52-4f5b-c3a0-34b46bd178c6"
      },
      "source": [
        "poscnt = cntWord(x_data, posi)\n",
        "negcnt = mntWord(x_data, nega)\n",
        "print(len(x_data))\n",
        "\n",
        "print(poscnt[:len(x_data)])\n",
        "p = sum(poscnt)\n",
        "print(p)\n",
        "print(negcnt[:len(x_data)])\n",
        "n = sum(negcnt)\n",
        "print(n)\n",
        "\n",
        "rating = p+n\n",
        "\n",
        "if rating > 0:\n",
        "  print(rating)\n",
        "  print('긍정')\n",
        "elif rating < 0:\n",
        "  print(rating)\n",
        "  print('부정')\n",
        "else:\n",
        "  print(rating)\n",
        "  print('중립')"
      ],
      "execution_count": 119,
      "outputs": [
        {
          "output_type": "stream",
          "text": [
            "1505\n",
            "[2, 4, 1, 2, 8, 0, 5, 0, 3, 2, 1, 1, 3, 0, 0, 1, 0, 2, 1, 0, 2, 0, 0, 0, 1, 4, 1, 2, 1, 4, 3, 0, 2, 1, 0, 2, 0, 2, 3, 2, 2, 2, 5, 0, 0, 0, 2, 0, 0, 2, 0, 0, 2, 0, 2, 0, 3, 0, 0, 0, 1, 0, 2, 0, 0, 0, 0, 0, 1, 3, 1, 0, 0, 0, 0, 0, 1, 0, 0, 0, 1, 0, 1, 2, 2, 1, 3, 0, 0, 0, 0, 0, 2, 0, 0, 0, 0, 2, 0]\n",
            "109\n",
            "[0, -1, -1, -3, -3, -4, -4, 0, -1, -1, 0, 0, -3, 0, -1, -1, -3, -3, -1, 0, -2, -3, 0, 0, -3, 0, 0, -5, 0, 0, -2, -2, -1, 0, -1, -2, 0, -2, -3, -3, 0, -4, -3, 0, -2, -2, 0, -1, 0, -2, -2, 0, -1, -5, -4, -1, -1, -1, 0, 0, -2, 0, -1, -1, 0, -1, 0, -3, -4, -5, -3, 0, 0, 0, -4, -2, 0, -1, 0, -1, -2, -1, -1, 0, 0, -3, 0, 0, 0, -3, 0, -1, -3, -2, 0, -1, -2, -2, 0]\n",
            "-137\n",
            "-28\n",
            "부정\n"
          ],
          "name": "stdout"
        }
      ]
    },
    {
      "cell_type": "code",
      "metadata": {
        "colab": {
          "base_uri": "https://localhost:8080/"
        },
        "id": "Df3Vy7WYpA4D",
        "outputId": "485a447a-47e9-4b49-8a2e-d7373cfc86f1"
      },
      "source": [
        "!pip install rhinoMorph"
      ],
      "execution_count": 67,
      "outputs": [
        {
          "output_type": "stream",
          "text": [
            "Collecting rhinoMorph\n",
            "  Downloading rhinoMorph-3.8.0.0-py3-none-any.whl (3.0 MB)\n",
            "\u001b[K     |████████████████████████████████| 3.0 MB 5.2 MB/s \n",
            "\u001b[?25hInstalling collected packages: rhinoMorph\n",
            "Successfully installed rhinoMorph-3.8.0.0\n"
          ],
          "name": "stdout"
        }
      ]
    },
    {
      "cell_type": "code",
      "metadata": {
        "id": "wf1O5I2_o5Kp"
      },
      "source": [
        "import rhinoMorph\n",
        "from collections import Counter"
      ],
      "execution_count": 68,
      "outputs": []
    },
    {
      "cell_type": "code",
      "metadata": {
        "id": "q-tUtvByqIQg"
      },
      "source": [
        ""
      ],
      "execution_count": null,
      "outputs": []
    },
    {
      "cell_type": "code",
      "metadata": {
        "colab": {
          "base_uri": "https://localhost:8080/",
          "height": 316
        },
        "id": "Clk2th44Txsr",
        "outputId": "274e0d3d-6a3b-4549-c982-9a1ffab3c66f"
      },
      "source": [
        "pos = codecs.open(\"./positive_words_self.txt\", 'r')\n",
        "positive = pos.readlines()"
      ],
      "execution_count": null,
      "outputs": [
        {
          "output_type": "error",
          "ename": "FileNotFoundError",
          "evalue": "ignored",
          "traceback": [
            "\u001b[0;31m---------------------------------------------------------------------------\u001b[0m",
            "\u001b[0;31mFileNotFoundError\u001b[0m                         Traceback (most recent call last)",
            "\u001b[0;32m<ipython-input-4-62ca762bda2c>\u001b[0m in \u001b[0;36m<module>\u001b[0;34m()\u001b[0m\n\u001b[0;32m----> 1\u001b[0;31m \u001b[0mpos\u001b[0m \u001b[0;34m=\u001b[0m \u001b[0mcodecs\u001b[0m\u001b[0;34m.\u001b[0m\u001b[0mopen\u001b[0m\u001b[0;34m(\u001b[0m\u001b[0;34m\"./positive_words_self.txt\"\u001b[0m\u001b[0;34m,\u001b[0m \u001b[0;34m'r'\u001b[0m\u001b[0;34m)\u001b[0m\u001b[0;34m\u001b[0m\u001b[0;34m\u001b[0m\u001b[0m\n\u001b[0m\u001b[1;32m      2\u001b[0m \u001b[0mpositive\u001b[0m \u001b[0;34m=\u001b[0m \u001b[0mpos\u001b[0m\u001b[0;34m.\u001b[0m\u001b[0mreadlines\u001b[0m\u001b[0;34m(\u001b[0m\u001b[0;34m)\u001b[0m\u001b[0;34m\u001b[0m\u001b[0;34m\u001b[0m\u001b[0m\n",
            "\u001b[0;32m/usr/lib/python3.7/codecs.py\u001b[0m in \u001b[0;36mopen\u001b[0;34m(filename, mode, encoding, errors, buffering)\u001b[0m\n\u001b[1;32m    902\u001b[0m         \u001b[0;31m# Force opening of the file in binary mode\u001b[0m\u001b[0;34m\u001b[0m\u001b[0;34m\u001b[0m\u001b[0;34m\u001b[0m\u001b[0m\n\u001b[1;32m    903\u001b[0m         \u001b[0mmode\u001b[0m \u001b[0;34m=\u001b[0m \u001b[0mmode\u001b[0m \u001b[0;34m+\u001b[0m \u001b[0;34m'b'\u001b[0m\u001b[0;34m\u001b[0m\u001b[0;34m\u001b[0m\u001b[0m\n\u001b[0;32m--> 904\u001b[0;31m     \u001b[0mfile\u001b[0m \u001b[0;34m=\u001b[0m \u001b[0mbuiltins\u001b[0m\u001b[0;34m.\u001b[0m\u001b[0mopen\u001b[0m\u001b[0;34m(\u001b[0m\u001b[0mfilename\u001b[0m\u001b[0;34m,\u001b[0m \u001b[0mmode\u001b[0m\u001b[0;34m,\u001b[0m \u001b[0mbuffering\u001b[0m\u001b[0;34m)\u001b[0m\u001b[0;34m\u001b[0m\u001b[0;34m\u001b[0m\u001b[0m\n\u001b[0m\u001b[1;32m    905\u001b[0m     \u001b[0;32mif\u001b[0m \u001b[0mencoding\u001b[0m \u001b[0;32mis\u001b[0m \u001b[0;32mNone\u001b[0m\u001b[0;34m:\u001b[0m\u001b[0;34m\u001b[0m\u001b[0;34m\u001b[0m\u001b[0m\n\u001b[1;32m    906\u001b[0m         \u001b[0;32mreturn\u001b[0m \u001b[0mfile\u001b[0m\u001b[0;34m\u001b[0m\u001b[0;34m\u001b[0m\u001b[0m\n",
            "\u001b[0;31mFileNotFoundError\u001b[0m: [Errno 2] No such file or directory: './positive_words_self.txt'"
          ]
        }
      ]
    },
    {
      "cell_type": "code",
      "metadata": {
        "id": "YyX5icsUTzqa"
      },
      "source": [
        "positive = [pos.replace(\"\\n\",\"\")for pos in positive]"
      ],
      "execution_count": null,
      "outputs": []
    },
    {
      "cell_type": "code",
      "metadata": {
        "colab": {
          "base_uri": "https://localhost:8080/",
          "height": 316
        },
        "id": "gv5ARt5kT26w",
        "outputId": "70e78137-c2b8-4341-8134-3456d7251a14"
      },
      "source": [
        "neg= codecs.open(\"./negative_words_self.txt\", 'r')\n",
        "negative = neg.readlines()"
      ],
      "execution_count": null,
      "outputs": [
        {
          "output_type": "error",
          "ename": "FileNotFoundError",
          "evalue": "ignored",
          "traceback": [
            "\u001b[0;31m---------------------------------------------------------------------------\u001b[0m",
            "\u001b[0;31mFileNotFoundError\u001b[0m                         Traceback (most recent call last)",
            "\u001b[0;32m<ipython-input-6-3eecb8fb7de0>\u001b[0m in \u001b[0;36m<module>\u001b[0;34m()\u001b[0m\n\u001b[0;32m----> 1\u001b[0;31m \u001b[0mneg\u001b[0m\u001b[0;34m=\u001b[0m \u001b[0mcodecs\u001b[0m\u001b[0;34m.\u001b[0m\u001b[0mopen\u001b[0m\u001b[0;34m(\u001b[0m\u001b[0;34m\"./negative_words_self.txt\"\u001b[0m\u001b[0;34m,\u001b[0m \u001b[0;34m'r'\u001b[0m\u001b[0;34m)\u001b[0m\u001b[0;34m\u001b[0m\u001b[0;34m\u001b[0m\u001b[0m\n\u001b[0m\u001b[1;32m      2\u001b[0m \u001b[0mnegative\u001b[0m \u001b[0;34m=\u001b[0m \u001b[0mneg\u001b[0m\u001b[0;34m.\u001b[0m\u001b[0mreadlines\u001b[0m\u001b[0;34m(\u001b[0m\u001b[0;34m)\u001b[0m\u001b[0;34m\u001b[0m\u001b[0;34m\u001b[0m\u001b[0m\n",
            "\u001b[0;32m/usr/lib/python3.7/codecs.py\u001b[0m in \u001b[0;36mopen\u001b[0;34m(filename, mode, encoding, errors, buffering)\u001b[0m\n\u001b[1;32m    902\u001b[0m         \u001b[0;31m# Force opening of the file in binary mode\u001b[0m\u001b[0;34m\u001b[0m\u001b[0;34m\u001b[0m\u001b[0;34m\u001b[0m\u001b[0m\n\u001b[1;32m    903\u001b[0m         \u001b[0mmode\u001b[0m \u001b[0;34m=\u001b[0m \u001b[0mmode\u001b[0m \u001b[0;34m+\u001b[0m \u001b[0;34m'b'\u001b[0m\u001b[0;34m\u001b[0m\u001b[0;34m\u001b[0m\u001b[0m\n\u001b[0;32m--> 904\u001b[0;31m     \u001b[0mfile\u001b[0m \u001b[0;34m=\u001b[0m \u001b[0mbuiltins\u001b[0m\u001b[0;34m.\u001b[0m\u001b[0mopen\u001b[0m\u001b[0;34m(\u001b[0m\u001b[0mfilename\u001b[0m\u001b[0;34m,\u001b[0m \u001b[0mmode\u001b[0m\u001b[0;34m,\u001b[0m \u001b[0mbuffering\u001b[0m\u001b[0;34m)\u001b[0m\u001b[0;34m\u001b[0m\u001b[0;34m\u001b[0m\u001b[0m\n\u001b[0m\u001b[1;32m    905\u001b[0m     \u001b[0;32mif\u001b[0m \u001b[0mencoding\u001b[0m \u001b[0;32mis\u001b[0m \u001b[0;32mNone\u001b[0m\u001b[0;34m:\u001b[0m\u001b[0;34m\u001b[0m\u001b[0;34m\u001b[0m\u001b[0m\n\u001b[1;32m    906\u001b[0m         \u001b[0;32mreturn\u001b[0m \u001b[0mfile\u001b[0m\u001b[0;34m\u001b[0m\u001b[0;34m\u001b[0m\u001b[0m\n",
            "\u001b[0;31mFileNotFoundError\u001b[0m: [Errno 2] No such file or directory: './negative_words_self.txt'"
          ]
        }
      ]
    },
    {
      "cell_type": "code",
      "metadata": {
        "colab": {
          "base_uri": "https://localhost:8080/",
          "height": 172
        },
        "id": "LHEHCQE6T4kQ",
        "outputId": "a71a3767-454b-4139-bb4f-64d62294c0ae"
      },
      "source": [
        "negative = [neg.replace(\"\\n\",\"\")for neg in negative]"
      ],
      "execution_count": null,
      "outputs": [
        {
          "output_type": "error",
          "ename": "NameError",
          "evalue": "ignored",
          "traceback": [
            "\u001b[0;31m---------------------------------------------------------------------------\u001b[0m",
            "\u001b[0;31mNameError\u001b[0m                                 Traceback (most recent call last)",
            "\u001b[0;32m<ipython-input-7-18fbc67064b8>\u001b[0m in \u001b[0;36m<module>\u001b[0;34m()\u001b[0m\n\u001b[0;32m----> 1\u001b[0;31m \u001b[0mnegative\u001b[0m \u001b[0;34m=\u001b[0m \u001b[0;34m[\u001b[0m\u001b[0mneg\u001b[0m\u001b[0;34m.\u001b[0m\u001b[0mreplace\u001b[0m\u001b[0;34m(\u001b[0m\u001b[0;34m\"\\n\"\u001b[0m\u001b[0;34m,\u001b[0m\u001b[0;34m\"\"\u001b[0m\u001b[0;34m)\u001b[0m\u001b[0;32mfor\u001b[0m \u001b[0mneg\u001b[0m \u001b[0;32min\u001b[0m \u001b[0mnegative\u001b[0m\u001b[0;34m]\u001b[0m\u001b[0;34m\u001b[0m\u001b[0;34m\u001b[0m\u001b[0m\n\u001b[0m",
            "\u001b[0;31mNameError\u001b[0m: name 'negative' is not defined"
          ]
        }
      ]
    },
    {
      "cell_type": "code",
      "metadata": {
        "id": "ai63B2GOUHaC"
      },
      "source": [
        "from sklearn.model_selection import train_test_split"
      ],
      "execution_count": null,
      "outputs": []
    },
    {
      "cell_type": "code",
      "metadata": {
        "colab": {
          "base_uri": "https://localhost:8080/",
          "height": 190
        },
        "id": "Ueyi9xz3UKNK",
        "outputId": "5abbb31f-7956-4e11-8875-9081b9bce5c3"
      },
      "source": [
        "x_data = df['text']\n",
        "y_data = df['title']"
      ],
      "execution_count": null,
      "outputs": [
        {
          "output_type": "error",
          "ename": "NameError",
          "evalue": "ignored",
          "traceback": [
            "\u001b[0;31m---------------------------------------------------------------------------\u001b[0m",
            "\u001b[0;31mNameError\u001b[0m                                 Traceback (most recent call last)",
            "\u001b[0;32m<ipython-input-12-c14f238b0a2e>\u001b[0m in \u001b[0;36m<module>\u001b[0;34m()\u001b[0m\n\u001b[0;32m----> 1\u001b[0;31m \u001b[0mx_data\u001b[0m \u001b[0;34m=\u001b[0m \u001b[0mdf\u001b[0m\u001b[0;34m[\u001b[0m\u001b[0;34m'text'\u001b[0m\u001b[0;34m]\u001b[0m\u001b[0;34m\u001b[0m\u001b[0;34m\u001b[0m\u001b[0m\n\u001b[0m\u001b[1;32m      2\u001b[0m \u001b[0my_data\u001b[0m \u001b[0;34m=\u001b[0m \u001b[0mdf\u001b[0m\u001b[0;34m[\u001b[0m\u001b[0;34m'title'\u001b[0m\u001b[0;34m]\u001b[0m\u001b[0;34m\u001b[0m\u001b[0;34m\u001b[0m\u001b[0m\n",
            "\u001b[0;31mNameError\u001b[0m: name 'df' is not defined"
          ]
        }
      ]
    },
    {
      "cell_type": "code",
      "metadata": {
        "colab": {
          "base_uri": "https://localhost:8080/",
          "height": 190
        },
        "id": "SUvzfRYjULuy",
        "outputId": "9405f993-5e2d-4b1e-b87c-5760ba57da29"
      },
      "source": [
        "x_train, x_test, y_train, y_test = train_test_split(x_data, y_data)\n",
        "x_train.shape, y_train.shape, x_test.shape, y_test.shape"
      ],
      "execution_count": null,
      "outputs": [
        {
          "output_type": "error",
          "ename": "NameError",
          "evalue": "ignored",
          "traceback": [
            "\u001b[0;31m---------------------------------------------------------------------------\u001b[0m",
            "\u001b[0;31mNameError\u001b[0m                                 Traceback (most recent call last)",
            "\u001b[0;32m<ipython-input-13-81c120ca83af>\u001b[0m in \u001b[0;36m<module>\u001b[0;34m()\u001b[0m\n\u001b[0;32m----> 1\u001b[0;31m \u001b[0mx_train\u001b[0m\u001b[0;34m,\u001b[0m \u001b[0mx_test\u001b[0m\u001b[0;34m,\u001b[0m \u001b[0my_train\u001b[0m\u001b[0;34m,\u001b[0m \u001b[0my_test\u001b[0m \u001b[0;34m=\u001b[0m \u001b[0mtrain_test_split\u001b[0m\u001b[0;34m(\u001b[0m\u001b[0mx_data\u001b[0m\u001b[0;34m,\u001b[0m \u001b[0my_data\u001b[0m\u001b[0;34m)\u001b[0m\u001b[0;34m\u001b[0m\u001b[0;34m\u001b[0m\u001b[0m\n\u001b[0m\u001b[1;32m      2\u001b[0m \u001b[0mx_train\u001b[0m\u001b[0;34m.\u001b[0m\u001b[0mshape\u001b[0m\u001b[0;34m,\u001b[0m \u001b[0my_train\u001b[0m\u001b[0;34m.\u001b[0m\u001b[0mshape\u001b[0m\u001b[0;34m,\u001b[0m \u001b[0mx_test\u001b[0m\u001b[0;34m.\u001b[0m\u001b[0mshape\u001b[0m\u001b[0;34m,\u001b[0m \u001b[0my_test\u001b[0m\u001b[0;34m.\u001b[0m\u001b[0mshape\u001b[0m\u001b[0;34m\u001b[0m\u001b[0;34m\u001b[0m\u001b[0m\n",
            "\u001b[0;31mNameError\u001b[0m: name 'x_data' is not defined"
          ]
        }
      ]
    },
    {
      "cell_type": "code",
      "metadata": {
        "colab": {
          "base_uri": "https://localhost:8080/",
          "height": 581
        },
        "id": "jYIie4AGNmWL",
        "outputId": "21275769-96cf-49f0-f95c-3c275a64f88f"
      },
      "source": [
        "x_data = df[['title','text']]\n",
        "x_data"
      ],
      "execution_count": 41,
      "outputs": [
        {
          "output_type": "execute_result",
          "data": {
            "text/html": [
              "<div>\n",
              "<style scoped>\n",
              "    .dataframe tbody tr th:only-of-type {\n",
              "        vertical-align: middle;\n",
              "    }\n",
              "\n",
              "    .dataframe tbody tr th {\n",
              "        vertical-align: top;\n",
              "    }\n",
              "\n",
              "    .dataframe thead th {\n",
              "        text-align: right;\n",
              "    }\n",
              "</style>\n",
              "<table border=\"1\" class=\"dataframe\">\n",
              "  <thead>\n",
              "    <tr style=\"text-align: right;\">\n",
              "      <th></th>\n",
              "      <th>title</th>\n",
              "      <th>text</th>\n",
              "    </tr>\n",
              "  </thead>\n",
              "  <tbody>\n",
              "    <tr>\n",
              "      <th>0</th>\n",
              "      <td>중국에 대립각 세우는 리투아니아…왜?</td>\n",
              "      <td>중국에서 6000km 떨어진 발트해 연안 국가 리투아니아가 ‘대만 문제’를 두고 중...</td>\n",
              "    </tr>\n",
              "    <tr>\n",
              "      <th>1</th>\n",
              "      <td>국민의힘, 계속 옮겨붙는 갈등의 불씨...진화할 수 있을까</td>\n",
              "      <td>국민의힘 내홍이 깊어지고 있다. 이준석 대표와 윤석열 전 검찰총장 등 ‘투스톤(준스...</td>\n",
              "    </tr>\n",
              "    <tr>\n",
              "      <th>2</th>\n",
              "      <td>[단독] 법관이 직원에게 성경 공부·의전 지시, 법원에서도 ‘직장 갑질’ 논란</td>\n",
              "      <td>법관에게 직장 내 갑질 및 괴롭힘을 당했다며 도움을 호소하는 법원 직원의 글이 법원...</td>\n",
              "    </tr>\n",
              "    <tr>\n",
              "      <th>3</th>\n",
              "      <td>코로나 확진자수 2000명 돌파에 노심초사 여, 공세 강화하는 야</td>\n",
              "      <td>코로나19 신규 확진자가 11일 사상 처음으로 2000명을 돌파하자 여권은 ‘노심초...</td>\n",
              "    </tr>\n",
              "    <tr>\n",
              "      <th>4</th>\n",
              "      <td>류호정 \"피해자 보호 못하는 강간죄 개정 위해 '쇼'라도 하겠다\"</td>\n",
              "      <td>류호정 정의당 의원은 새로운 ‘쇼’를 궁리 중이라고 했다. 이번엔 강간죄 개정을 위...</td>\n",
              "    </tr>\n",
              "    <tr>\n",
              "      <th>...</th>\n",
              "      <td>...</td>\n",
              "      <td>...</td>\n",
              "    </tr>\n",
              "    <tr>\n",
              "      <th>94</th>\n",
              "      <td>죽파리 자작나무 숲 인근 ‘송하리 졸참나무와 당숲’ 천연기념물 된다</td>\n",
              "      <td>문화재청이 ‘영양 송하리 졸참나무와 당숲’을 국가지정문화재 천연기념물로 지정 예고했...</td>\n",
              "    </tr>\n",
              "    <tr>\n",
              "      <th>95</th>\n",
              "      <td>섬유·제지 산업도 탄소중립 움직임···\"폐자원을 에너지로\"</td>\n",
              "      <td>정부가 섬유·제지 산업에서 탄소배출량을 줄이는 기술 개발에 투자를 강화한다.산업통상...</td>\n",
              "    </tr>\n",
              "    <tr>\n",
              "      <th>96</th>\n",
              "      <td>현대차·BMW·벤츠 등 35개 차종 2만8946대 리콜</td>\n",
              "      <td>국토교통부는 현대자동차와 BMW 등 35개 차종 총 2만8946대에서 제작결함이 발...</td>\n",
              "    </tr>\n",
              "    <tr>\n",
              "      <th>97</th>\n",
              "      <td>박용진 \"4차 산업혁명 선도하는 '바이미식스' 대통령 되겠다\"</td>\n",
              "      <td>더불어민주당 대선 경선 후보인 박용진 의원은 11일 “4차 산업혁명 대통령이 되겠다...</td>\n",
              "    </tr>\n",
              "    <tr>\n",
              "      <th>98</th>\n",
              "      <td>이준석 '친윤석열계' 겨냥 \"권력욕 부추기는 하이에나\"..정진석 \"참 딱하다\"</td>\n",
              "      <td>이준석 국민의힘 대표는 11일 “우리 후보들 곁에 권력욕을 부추기는 하이에나가 아니...</td>\n",
              "    </tr>\n",
              "  </tbody>\n",
              "</table>\n",
              "<p>99 rows × 2 columns</p>\n",
              "</div>"
            ],
            "text/plain": [
              "                                          title                                               text\n",
              "0                          중국에 대립각 세우는 리투아니아…왜?  중국에서 6000km 떨어진 발트해 연안 국가 리투아니아가 ‘대만 문제’를 두고 중...\n",
              "1              국민의힘, 계속 옮겨붙는 갈등의 불씨...진화할 수 있을까  국민의힘 내홍이 깊어지고 있다. 이준석 대표와 윤석열 전 검찰총장 등 ‘투스톤(준스...\n",
              "2   [단독] 법관이 직원에게 성경 공부·의전 지시, 법원에서도 ‘직장 갑질’ 논란  법관에게 직장 내 갑질 및 괴롭힘을 당했다며 도움을 호소하는 법원 직원의 글이 법원...\n",
              "3          코로나 확진자수 2000명 돌파에 노심초사 여, 공세 강화하는 야  코로나19 신규 확진자가 11일 사상 처음으로 2000명을 돌파하자 여권은 ‘노심초...\n",
              "4          류호정 \"피해자 보호 못하는 강간죄 개정 위해 '쇼'라도 하겠다\"  류호정 정의당 의원은 새로운 ‘쇼’를 궁리 중이라고 했다. 이번엔 강간죄 개정을 위...\n",
              "..                                          ...                                                ...\n",
              "94        죽파리 자작나무 숲 인근 ‘송하리 졸참나무와 당숲’ 천연기념물 된다  문화재청이 ‘영양 송하리 졸참나무와 당숲’을 국가지정문화재 천연기념물로 지정 예고했...\n",
              "95             섬유·제지 산업도 탄소중립 움직임···\"폐자원을 에너지로\"  정부가 섬유·제지 산업에서 탄소배출량을 줄이는 기술 개발에 투자를 강화한다.산업통상...\n",
              "96               현대차·BMW·벤츠 등 35개 차종 2만8946대 리콜  국토교통부는 현대자동차와 BMW 등 35개 차종 총 2만8946대에서 제작결함이 발...\n",
              "97           박용진 \"4차 산업혁명 선도하는 '바이미식스' 대통령 되겠다\"  더불어민주당 대선 경선 후보인 박용진 의원은 11일 “4차 산업혁명 대통령이 되겠다...\n",
              "98  이준석 '친윤석열계' 겨냥 \"권력욕 부추기는 하이에나\"..정진석 \"참 딱하다\"  이준석 국민의힘 대표는 11일 “우리 후보들 곁에 권력욕을 부추기는 하이에나가 아니...\n",
              "\n",
              "[99 rows x 2 columns]"
            ]
          },
          "metadata": {
            "tags": []
          },
          "execution_count": 41
        }
      ]
    },
    {
      "cell_type": "code",
      "metadata": {
        "id": "lvWh662AUvhh"
      },
      "source": [
        "import tensorflow as tf"
      ],
      "execution_count": null,
      "outputs": []
    },
    {
      "cell_type": "code",
      "metadata": {
        "id": "N5tSO7bzUw86"
      },
      "source": [
        "tokenizer = tf.keras.preprocessing.text.Tokenizer()\n",
        "tokenizer.fit_on_texts(sentance)"
      ],
      "execution_count": null,
      "outputs": []
    },
    {
      "cell_type": "code",
      "metadata": {
        "id": "NHx76zk8UxOK"
      },
      "source": [
        "tokenizer.word_index"
      ],
      "execution_count": null,
      "outputs": []
    },
    {
      "cell_type": "code",
      "metadata": {
        "id": "Fq39-T9oUy3a"
      },
      "source": [
        "x_train = tokenizer.texts_to_sequences(sentance)"
      ],
      "execution_count": null,
      "outputs": []
    },
    {
      "cell_type": "code",
      "metadata": {
        "colab": {
          "base_uri": "https://localhost:8080/",
          "height": 172
        },
        "id": "w5Vq4QklU-XN",
        "outputId": "124c6005-cc47-449a-e6bb-44a0a94bf64b"
      },
      "source": [
        "hist_len = [len(words) for words in x_train]"
      ],
      "execution_count": null,
      "outputs": [
        {
          "output_type": "error",
          "ename": "NameError",
          "evalue": "ignored",
          "traceback": [
            "\u001b[0;31m---------------------------------------------------------------------------\u001b[0m",
            "\u001b[0;31mNameError\u001b[0m                                 Traceback (most recent call last)",
            "\u001b[0;32m<ipython-input-22-128f529c7202>\u001b[0m in \u001b[0;36m<module>\u001b[0;34m()\u001b[0m\n\u001b[0;32m----> 1\u001b[0;31m \u001b[0mhist_len\u001b[0m \u001b[0;34m=\u001b[0m \u001b[0;34m[\u001b[0m\u001b[0mlen\u001b[0m\u001b[0;34m(\u001b[0m\u001b[0mwords\u001b[0m\u001b[0;34m)\u001b[0m \u001b[0;32mfor\u001b[0m \u001b[0mwords\u001b[0m \u001b[0;32min\u001b[0m \u001b[0mx_train\u001b[0m\u001b[0;34m]\u001b[0m\u001b[0;34m\u001b[0m\u001b[0;34m\u001b[0m\u001b[0m\n\u001b[0m",
            "\u001b[0;31mNameError\u001b[0m: name 'x_train' is not defined"
          ]
        }
      ]
    },
    {
      "cell_type": "code",
      "metadata": {
        "id": "usiC8jV1U-5i"
      },
      "source": [
        "import matplotlib.pyplot as plt"
      ],
      "execution_count": null,
      "outputs": []
    },
    {
      "cell_type": "code",
      "metadata": {
        "colab": {
          "base_uri": "https://localhost:8080/",
          "height": 172
        },
        "id": "Hd4IgBgGVA96",
        "outputId": "41ed9c2a-34c4-4738-bcdc-155bdfc052dd"
      },
      "source": [
        "plt.hist(hist_len, bins=50)"
      ],
      "execution_count": null,
      "outputs": [
        {
          "output_type": "error",
          "ename": "NameError",
          "evalue": "ignored",
          "traceback": [
            "\u001b[0;31m---------------------------------------------------------------------------\u001b[0m",
            "\u001b[0;31mNameError\u001b[0m                                 Traceback (most recent call last)",
            "\u001b[0;32m<ipython-input-24-29f47d004693>\u001b[0m in \u001b[0;36m<module>\u001b[0;34m()\u001b[0m\n\u001b[0;32m----> 1\u001b[0;31m \u001b[0mplt\u001b[0m\u001b[0;34m.\u001b[0m\u001b[0mhist\u001b[0m\u001b[0;34m(\u001b[0m\u001b[0mhist_len\u001b[0m\u001b[0;34m,\u001b[0m \u001b[0mbins\u001b[0m\u001b[0;34m=\u001b[0m\u001b[0;36m50\u001b[0m\u001b[0;34m)\u001b[0m\u001b[0;34m\u001b[0m\u001b[0;34m\u001b[0m\u001b[0m\n\u001b[0m",
            "\u001b[0;31mNameError\u001b[0m: name 'hist_len' is not defined"
          ]
        }
      ]
    },
    {
      "cell_type": "code",
      "metadata": {
        "colab": {
          "base_uri": "https://localhost:8080/",
          "height": 172
        },
        "id": "Dz8K0L1mVEAK",
        "outputId": "e8c638b7-df66-482e-abdc-1d1160357cd3"
      },
      "source": [
        "sum(hist_len)/len(x_train)"
      ],
      "execution_count": null,
      "outputs": [
        {
          "output_type": "error",
          "ename": "NameError",
          "evalue": "ignored",
          "traceback": [
            "\u001b[0;31m---------------------------------------------------------------------------\u001b[0m",
            "\u001b[0;31mNameError\u001b[0m                                 Traceback (most recent call last)",
            "\u001b[0;32m<ipython-input-25-151f9df52154>\u001b[0m in \u001b[0;36m<module>\u001b[0;34m()\u001b[0m\n\u001b[0;32m----> 1\u001b[0;31m \u001b[0msum\u001b[0m\u001b[0;34m(\u001b[0m\u001b[0mhist_len\u001b[0m\u001b[0;34m)\u001b[0m\u001b[0;34m/\u001b[0m\u001b[0mlen\u001b[0m\u001b[0;34m(\u001b[0m\u001b[0mx_train\u001b[0m\u001b[0;34m)\u001b[0m\u001b[0;34m\u001b[0m\u001b[0;34m\u001b[0m\u001b[0m\n\u001b[0m",
            "\u001b[0;31mNameError\u001b[0m: name 'hist_len' is not defined"
          ]
        }
      ]
    },
    {
      "cell_type": "code",
      "metadata": {
        "colab": {
          "base_uri": "https://localhost:8080/",
          "height": 172
        },
        "id": "t_oG2sPUVEaS",
        "outputId": "1f29616c-3971-4fc6-a4ce-5fca82310a3c"
      },
      "source": [
        "x_train = tf.keras.preprocessing.sequence.pad_sequences(x_train, maxlen=50)"
      ],
      "execution_count": null,
      "outputs": [
        {
          "output_type": "error",
          "ename": "NameError",
          "evalue": "ignored",
          "traceback": [
            "\u001b[0;31m---------------------------------------------------------------------------\u001b[0m",
            "\u001b[0;31mNameError\u001b[0m                                 Traceback (most recent call last)",
            "\u001b[0;32m<ipython-input-26-209de60e13e4>\u001b[0m in \u001b[0;36m<module>\u001b[0;34m()\u001b[0m\n\u001b[0;32m----> 1\u001b[0;31m \u001b[0mx_train\u001b[0m \u001b[0;34m=\u001b[0m \u001b[0mtf\u001b[0m\u001b[0;34m.\u001b[0m\u001b[0mkeras\u001b[0m\u001b[0;34m.\u001b[0m\u001b[0mpreprocessing\u001b[0m\u001b[0;34m.\u001b[0m\u001b[0msequence\u001b[0m\u001b[0;34m.\u001b[0m\u001b[0mpad_sequences\u001b[0m\u001b[0;34m(\u001b[0m\u001b[0mx_train\u001b[0m\u001b[0;34m,\u001b[0m \u001b[0mmaxlen\u001b[0m\u001b[0;34m=\u001b[0m\u001b[0;36m50\u001b[0m\u001b[0;34m)\u001b[0m\u001b[0;34m\u001b[0m\u001b[0;34m\u001b[0m\u001b[0m\n\u001b[0m",
            "\u001b[0;31mNameError\u001b[0m: name 'tf' is not defined"
          ]
        }
      ]
    },
    {
      "cell_type": "code",
      "metadata": {
        "colab": {
          "base_uri": "https://localhost:8080/",
          "height": 134
        },
        "id": "ObaLHZ5nQ7YD",
        "outputId": "fee9cc09-71ce-4642-f0cb-f3d3fba99408"
      },
      "source": [
        "table = dict()\n",
        "\n",
        "with open('polarity.csv', 'r', -1, 'utf-8') as polarity:\n",
        "  next(polarity)\n",
        "\n",
        "  for line in csv.reader(polarity):\n",
        "    key = str()\n",
        "    for word in articles.split(' '):\n",
        "      key += word.split('/')\n",
        "\n",
        "      table[key] = {'Neg':line[3], 'Neut':line[4], 'Pos':line[6}]"
      ],
      "execution_count": 154,
      "outputs": [
        {
          "output_type": "error",
          "ename": "SyntaxError",
          "evalue": "ignored",
          "traceback": [
            "\u001b[0;36m  File \u001b[0;32m\"<ipython-input-154-7611773c253d>\"\u001b[0;36m, line \u001b[0;32m11\u001b[0m\n\u001b[0;31m    table[key] = {'Neg':line[3], 'Neut':line[4], 'Pos':line[6}]\u001b[0m\n\u001b[0m                                                             ^\u001b[0m\n\u001b[0;31mSyntaxError\u001b[0m\u001b[0;31m:\u001b[0m invalid syntax\n"
          ]
        }
      ]
    },
    {
      "cell_type": "code",
      "metadata": {
        "id": "FimL80FSSHT3"
      },
      "source": [
        ""
      ],
      "execution_count": null,
      "outputs": []
    }
  ]
}