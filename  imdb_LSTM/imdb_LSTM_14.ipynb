{
  "nbformat": 4,
  "nbformat_minor": 0,
  "metadata": {
    "colab": {
      "name": " imdb_LSTM.ipynb",
      "provenance": [],
      "collapsed_sections": [],
      "authorship_tag": "ABX9TyOFuVNuPKRY+cIDHT5yuyl/"
    },
    "kernelspec": {
      "display_name": "Python 3",
      "name": "python3"
    },
    "language_info": {
      "name": "python"
    }
  },
  "cells": [
    {
      "cell_type": "code",
      "metadata": {
        "id": "tSeFH666zBh0"
      },
      "source": [
        "import tensorflow as tf"
      ],
      "execution_count": null,
      "outputs": []
    },
    {
      "cell_type": "code",
      "metadata": {
        "id": "cARAPAVQzHn9"
      },
      "source": [
        "(x_train, y_train),(x_test, y_test) = tf.keras.datasets.imdb.load_data(num_words=10000)\n",
        "x_train.shape, y_train.shape, x_test.shape, y_test.shape"
      ],
      "execution_count": null,
      "outputs": []
    },
    {
      "cell_type": "code",
      "metadata": {
        "id": "yCglN-wfzxZ7"
      },
      "source": [
        "print(type(x_train))\n",
        "print(type(x_train[0]), x_train[0])"
      ],
      "execution_count": null,
      "outputs": []
    },
    {
      "cell_type": "code",
      "metadata": {
        "id": "lrxud9Fu6SMo"
      },
      "source": [
        "(x_train_100, y_train_100),(x_test_100, y_test_100) = tf.keras.datasets.imdb.load_data(num_words=100)\n",
        "x_train_100.shape, y_train_100.shape, x_test_100.shape, y_test_100.shape"
      ],
      "execution_count": null,
      "outputs": []
    },
    {
      "cell_type": "code",
      "metadata": {
        "id": "xZAj9Mja67Wd",
        "colab": {
          "base_uri": "https://localhost:8080/"
        },
        "outputId": "c58874c7-8513-465a-9d21-33704090ab8f"
      },
      "source": [
        "print(type(x_train_100[0]), x_train_100[0])"
      ],
      "execution_count": null,
      "outputs": [
        {
          "output_type": "stream",
          "text": [
            "<class 'list'> [1, 14, 22, 16, 43, 2, 2, 2, 2, 65, 2, 2, 66, 2, 4, 2, 36, 2, 5, 25, 2, 43, 2, 2, 50, 2, 2, 9, 35, 2, 2, 5, 2, 4, 2, 2, 2, 2, 2, 2, 39, 4, 2, 2, 2, 17, 2, 38, 13, 2, 4, 2, 50, 16, 6, 2, 2, 19, 14, 22, 4, 2, 2, 2, 4, 22, 71, 87, 12, 16, 43, 2, 38, 76, 15, 13, 2, 4, 22, 17, 2, 17, 12, 16, 2, 18, 2, 5, 62, 2, 12, 8, 2, 8, 2, 5, 4, 2, 2, 16, 2, 66, 2, 33, 4, 2, 12, 16, 38, 2, 5, 25, 2, 51, 36, 2, 48, 25, 2, 33, 6, 22, 12, 2, 28, 77, 52, 5, 14, 2, 16, 82, 2, 8, 4, 2, 2, 2, 15, 2, 4, 2, 7, 2, 5, 2, 36, 71, 43, 2, 2, 26, 2, 2, 46, 7, 4, 2, 2, 13, 2, 88, 4, 2, 15, 2, 98, 32, 2, 56, 26, 2, 6, 2, 2, 18, 4, 2, 22, 21, 2, 2, 26, 2, 5, 2, 30, 2, 18, 51, 36, 28, 2, 92, 25, 2, 4, 2, 65, 16, 38, 2, 88, 12, 16, 2, 5, 16, 2, 2, 2, 32, 15, 16, 2, 19, 2, 32]\n"
          ],
          "name": "stdout"
        }
      ]
    },
    {
      "cell_type": "code",
      "metadata": {
        "id": "LkubLGxL14ea",
        "colab": {
          "base_uri": "https://localhost:8080/"
        },
        "outputId": "717a810f-3d7e-44c7-addb-2b18c1c1e5cf"
      },
      "source": [
        "print(type(y_train[0]), y_train[0:5])"
      ],
      "execution_count": null,
      "outputs": [
        {
          "output_type": "stream",
          "text": [
            "<class 'numpy.int64'> [1 0 0 1 0]\n"
          ],
          "name": "stdout"
        }
      ]
    },
    {
      "cell_type": "code",
      "metadata": {
        "id": "_mYdQlfc2lSL"
      },
      "source": [
        "import numpy as np"
      ],
      "execution_count": null,
      "outputs": []
    },
    {
      "cell_type": "code",
      "metadata": {
        "id": "pryCVzhS21vp",
        "colab": {
          "base_uri": "https://localhost:8080/"
        },
        "outputId": "7013b839-4735-4e01-b230-374895b80a57"
      },
      "source": [
        "np.unique(y_train)"
      ],
      "execution_count": null,
      "outputs": [
        {
          "output_type": "execute_result",
          "data": {
            "text/plain": [
              "array([0, 1])"
            ]
          },
          "metadata": {
            "tags": []
          },
          "execution_count": 8
        }
      ]
    },
    {
      "cell_type": "code",
      "metadata": {
        "id": "cDcCROwM241p"
      },
      "source": [
        "word_index = tf.keras.datasets.imdb.get_word_index()\n",
        "print(type(word_index), word_index)"
      ],
      "execution_count": null,
      "outputs": []
    },
    {
      "cell_type": "code",
      "metadata": {
        "id": "Fe3DuK0K_jA3"
      },
      "source": [
        "word_index.items()"
      ],
      "execution_count": null,
      "outputs": []
    },
    {
      "cell_type": "code",
      "metadata": {
        "id": "hUMTz5bC8G4L"
      },
      "source": [
        "invert_word_index = dict()\n",
        "for (key,value) in word_index.items():\n",
        "  invert_word_index[value] = key\n",
        "print(invert_word_index)"
      ],
      "execution_count": null,
      "outputs": []
    },
    {
      "cell_type": "code",
      "metadata": {
        "id": "342l-Rdw-sGn"
      },
      "source": [
        "decode_str = str()\n",
        "for num in x_train[0]:\n",
        "  #print(i, invert_word_index[num])\n",
        "  decode_str = decode_str + invert_word_index[num] + ' '\n",
        "\n",
        "decode_str"
      ],
      "execution_count": null,
      "outputs": []
    },
    {
      "cell_type": "code",
      "metadata": {
        "id": "e0OITagg_uyc"
      },
      "source": [
        "def f_decode_string(x_data):\n",
        "  decode_str = str()\n",
        "  for num in x_data:\n",
        "    #print(i, invert_word_index[num])\n",
        "    decode_str = decode_str + invert_word_index[num] + ' '\n",
        "\n",
        "  return decode_str"
      ],
      "execution_count": null,
      "outputs": []
    },
    {
      "cell_type": "code",
      "metadata": {
        "id": "b7k0_cAzCfa-"
      },
      "source": [
        "f_decode_string(x_train[20])"
      ],
      "execution_count": null,
      "outputs": []
    },
    {
      "cell_type": "code",
      "metadata": {
        "id": "8fDCNYCICjwV"
      },
      "source": [
        "f_decode_string(x_train_100[20])"
      ],
      "execution_count": null,
      "outputs": []
    },
    {
      "cell_type": "markdown",
      "metadata": {
        "id": "v1lcbOdHDa4l"
      },
      "source": [
        "# 데이터 전처리"
      ]
    },
    {
      "cell_type": "code",
      "metadata": {
        "colab": {
          "base_uri": "https://localhost:8080/"
        },
        "id": "6qv9GsQWCxGv",
        "outputId": "25344541-d392-435d-cdd2-cacf64707dfc"
      },
      "source": [
        "len(x_train[0]), len(x_train[50]), len(x_train[500]), len(x_train[1000])"
      ],
      "execution_count": null,
      "outputs": [
        {
          "output_type": "execute_result",
          "data": {
            "text/plain": [
              "(218, 113, 60, 298)"
            ]
          },
          "metadata": {
            "tags": []
          },
          "execution_count": 16
        }
      ]
    },
    {
      "cell_type": "code",
      "metadata": {
        "colab": {
          "base_uri": "https://localhost:8080/"
        },
        "id": "9NmRpZ4JD3pb",
        "outputId": "d6c1db4e-4ad0-4720-f6a3-a37578a86ff9"
      },
      "source": [
        "sequence = [[1], \n",
        "            [2, 3], \n",
        "            [4, 5, 6]]\n",
        "tf.keras.preprocessing.sequence.pad_sequences(sequence, maxlen=2, truncating='post')"
      ],
      "execution_count": null,
      "outputs": [
        {
          "output_type": "execute_result",
          "data": {
            "text/plain": [
              "array([[0, 1],\n",
              "       [2, 3],\n",
              "       [4, 5]], dtype=int32)"
            ]
          },
          "metadata": {
            "tags": []
          },
          "execution_count": 17
        }
      ]
    },
    {
      "cell_type": "code",
      "metadata": {
        "colab": {
          "base_uri": "https://localhost:8080/"
        },
        "id": "cWpW2WEpEs2i",
        "outputId": "0bfc6744-957a-4af1-b85e-6b3ed542547e"
      },
      "source": [
        "pad_x_train = tf.keras.preprocessing.sequence.pad_sequences(x_train, maxlen=500)\n",
        "len(pad_x_train[0]), pad_x_train[0]"
      ],
      "execution_count": null,
      "outputs": [
        {
          "output_type": "execute_result",
          "data": {
            "text/plain": [
              "(500, array([   0,    0,    0,    0,    0,    0,    0,    0,    0,    0,    0,\n",
              "           0,    0,    0,    0,    0,    0,    0,    0,    0,    0,    0,\n",
              "           0,    0,    0,    0,    0,    0,    0,    0,    0,    0,    0,\n",
              "           0,    0,    0,    0,    0,    0,    0,    0,    0,    0,    0,\n",
              "           0,    0,    0,    0,    0,    0,    0,    0,    0,    0,    0,\n",
              "           0,    0,    0,    0,    0,    0,    0,    0,    0,    0,    0,\n",
              "           0,    0,    0,    0,    0,    0,    0,    0,    0,    0,    0,\n",
              "           0,    0,    0,    0,    0,    0,    0,    0,    0,    0,    0,\n",
              "           0,    0,    0,    0,    0,    0,    0,    0,    0,    0,    0,\n",
              "           0,    0,    0,    0,    0,    0,    0,    0,    0,    0,    0,\n",
              "           0,    0,    0,    0,    0,    0,    0,    0,    0,    0,    0,\n",
              "           0,    0,    0,    0,    0,    0,    0,    0,    0,    0,    0,\n",
              "           0,    0,    0,    0,    0,    0,    0,    0,    0,    0,    0,\n",
              "           0,    0,    0,    0,    0,    0,    0,    0,    0,    0,    0,\n",
              "           0,    0,    0,    0,    0,    0,    0,    0,    0,    0,    0,\n",
              "           0,    0,    0,    0,    0,    0,    0,    0,    0,    0,    0,\n",
              "           0,    0,    0,    0,    0,    0,    0,    0,    0,    0,    0,\n",
              "           0,    0,    0,    0,    0,    0,    0,    0,    0,    0,    0,\n",
              "           0,    0,    0,    0,    0,    0,    0,    0,    0,    0,    0,\n",
              "           0,    0,    0,    0,    0,    0,    0,    0,    0,    0,    0,\n",
              "           0,    0,    0,    0,    0,    0,    0,    0,    0,    0,    0,\n",
              "           0,    0,    0,    0,    0,    0,    0,    0,    0,    0,    0,\n",
              "           0,    0,    0,    0,    0,    0,    0,    0,    0,    0,    0,\n",
              "           0,    0,    0,    0,    0,    0,    0,    0,    0,    0,    0,\n",
              "           0,    0,    0,    0,    0,    0,    0,    0,    0,    0,    0,\n",
              "           0,    0,    0,    0,    0,    0,    0,    1,   14,   22,   16,\n",
              "          43,  530,  973, 1622, 1385,   65,  458, 4468,   66, 3941,    4,\n",
              "         173,   36,  256,    5,   25,  100,   43,  838,  112,   50,  670,\n",
              "           2,    9,   35,  480,  284,    5,  150,    4,  172,  112,  167,\n",
              "           2,  336,  385,   39,    4,  172, 4536, 1111,   17,  546,   38,\n",
              "          13,  447,    4,  192,   50,   16,    6,  147, 2025,   19,   14,\n",
              "          22,    4, 1920, 4613,  469,    4,   22,   71,   87,   12,   16,\n",
              "          43,  530,   38,   76,   15,   13, 1247,    4,   22,   17,  515,\n",
              "          17,   12,   16,  626,   18,    2,    5,   62,  386,   12,    8,\n",
              "         316,    8,  106,    5,    4, 2223, 5244,   16,  480,   66, 3785,\n",
              "          33,    4,  130,   12,   16,   38,  619,    5,   25,  124,   51,\n",
              "          36,  135,   48,   25, 1415,   33,    6,   22,   12,  215,   28,\n",
              "          77,   52,    5,   14,  407,   16,   82,    2,    8,    4,  107,\n",
              "         117, 5952,   15,  256,    4,    2,    7, 3766,    5,  723,   36,\n",
              "          71,   43,  530,  476,   26,  400,  317,   46,    7,    4,    2,\n",
              "        1029,   13,  104,   88,    4,  381,   15,  297,   98,   32, 2071,\n",
              "          56,   26,  141,    6,  194, 7486,   18,    4,  226,   22,   21,\n",
              "         134,  476,   26,  480,    5,  144,   30, 5535,   18,   51,   36,\n",
              "          28,  224,   92,   25,  104,    4,  226,   65,   16,   38, 1334,\n",
              "          88,   12,   16,  283,    5,   16, 4472,  113,  103,   32,   15,\n",
              "          16, 5345,   19,  178,   32], dtype=int32))"
            ]
          },
          "metadata": {
            "tags": []
          },
          "execution_count": 18
        }
      ]
    },
    {
      "cell_type": "code",
      "metadata": {
        "colab": {
          "base_uri": "https://localhost:8080/"
        },
        "id": "kcTW3W4DPC5C",
        "outputId": "b409d489-3f78-4fa9-a206-47153d76a78a"
      },
      "source": [
        "np.unique(y_train) # --> Dense :1, activation:sigmoid, loss:binary_crossentropy"
      ],
      "execution_count": null,
      "outputs": [
        {
          "output_type": "execute_result",
          "data": {
            "text/plain": [
              "array([0, 1])"
            ]
          },
          "metadata": {
            "tags": []
          },
          "execution_count": 19
        }
      ]
    },
    {
      "cell_type": "markdown",
      "metadata": {
        "id": "0SOCGELmJYej"
      },
      "source": [
        "# make model"
      ]
    },
    {
      "cell_type": "code",
      "metadata": {
        "id": "-H_OxqW9JD-r"
      },
      "source": [
        "model = tf.keras.models.Sequential()\n",
        "\n",
        "model.add(tf.keras.layers.Embedding(input_dim=10000, output_dim=24, input_length=500)) # inputlayer\n",
        "model.add(tf.keras.layers.LSTM(24, return_sequences=True, activation='tanh')) # hidden layer\n",
        "model.add(tf.keras.layers.LSTM(12, activation='tanh')) # hidden layer\n",
        "model.add(tf.keras.layers.Dense(1, activation='sigmoid')) # output layer\n",
        "\n",
        "model.compile(optimizer='adam', loss='binary_crossentropy', metrics=['acc']) # gadget"
      ],
      "execution_count": null,
      "outputs": []
    },
    {
      "cell_type": "code",
      "metadata": {
        "id": "76ipnzUIQ7ln",
        "colab": {
          "base_uri": "https://localhost:8080/"
        },
        "outputId": "e0ab5c02-455d-4ec5-972c-f314d1de1080"
      },
      "source": [
        "model.summary()"
      ],
      "execution_count": null,
      "outputs": [
        {
          "output_type": "stream",
          "text": [
            "Model: \"sequential\"\n",
            "_________________________________________________________________\n",
            "Layer (type)                 Output Shape              Param #   \n",
            "=================================================================\n",
            "embedding (Embedding)        (None, 500, 24)           240000    \n",
            "_________________________________________________________________\n",
            "lstm (LSTM)                  (None, 500, 24)           4704      \n",
            "_________________________________________________________________\n",
            "lstm_1 (LSTM)                (None, 12)                1776      \n",
            "_________________________________________________________________\n",
            "dense (Dense)                (None, 1)                 13        \n",
            "=================================================================\n",
            "Total params: 246,493\n",
            "Trainable params: 246,493\n",
            "Non-trainable params: 0\n",
            "_________________________________________________________________\n"
          ],
          "name": "stdout"
        }
      ]
    },
    {
      "cell_type": "code",
      "metadata": {
        "id": "eMnsF4vlRd_j",
        "colab": {
          "base_uri": "https://localhost:8080/"
        },
        "outputId": "1a357a40-2f3a-4f44-c991-d7859fbcb405"
      },
      "source": [
        "hist = model.fit(pad_x_train, y_train, epochs=100, validation_split=0.3, batch_size= 256)"
      ],
      "execution_count": 22,
      "outputs": [
        {
          "output_type": "stream",
          "text": [
            "Epoch 1/100\n",
            "69/69 [==============================] - 53s 711ms/step - loss: 0.6039 - acc: 0.6850 - val_loss: 0.4188 - val_acc: 0.8208\n",
            "Epoch 2/100\n",
            "69/69 [==============================] - 49s 708ms/step - loss: 0.3322 - acc: 0.8693 - val_loss: 0.3245 - val_acc: 0.8692\n",
            "Epoch 3/100\n",
            "69/69 [==============================] - 49s 707ms/step - loss: 0.2187 - acc: 0.9235 - val_loss: 0.3061 - val_acc: 0.8780\n",
            "Epoch 4/100\n",
            "69/69 [==============================] - 48s 702ms/step - loss: 0.1579 - acc: 0.9515 - val_loss: 0.3401 - val_acc: 0.8716\n",
            "Epoch 5/100\n",
            "69/69 [==============================] - 49s 707ms/step - loss: 0.1215 - acc: 0.9647 - val_loss: 0.3729 - val_acc: 0.8699\n",
            "Epoch 6/100\n",
            "69/69 [==============================] - 49s 708ms/step - loss: 0.1033 - acc: 0.9710 - val_loss: 0.4098 - val_acc: 0.8620\n",
            "Epoch 7/100\n",
            "69/69 [==============================] - 48s 701ms/step - loss: 0.0893 - acc: 0.9765 - val_loss: 0.4170 - val_acc: 0.8664\n",
            "Epoch 8/100\n",
            "69/69 [==============================] - 48s 699ms/step - loss: 0.0743 - acc: 0.9819 - val_loss: 0.4540 - val_acc: 0.8672\n",
            "Epoch 9/100\n",
            "69/69 [==============================] - 48s 703ms/step - loss: 0.0556 - acc: 0.9879 - val_loss: 0.4860 - val_acc: 0.8689\n",
            "Epoch 10/100\n",
            "69/69 [==============================] - 48s 700ms/step - loss: 0.0487 - acc: 0.9904 - val_loss: 0.5150 - val_acc: 0.8648\n",
            "Epoch 11/100\n",
            "69/69 [==============================] - 48s 702ms/step - loss: 0.0512 - acc: 0.9886 - val_loss: 0.5395 - val_acc: 0.8585\n",
            "Epoch 12/100\n",
            "69/69 [==============================] - 49s 704ms/step - loss: 0.0516 - acc: 0.9882 - val_loss: 0.5476 - val_acc: 0.8621\n",
            "Epoch 13/100\n",
            "69/69 [==============================] - 49s 704ms/step - loss: 0.0591 - acc: 0.9852 - val_loss: 0.5397 - val_acc: 0.8515\n",
            "Epoch 14/100\n",
            "69/69 [==============================] - 48s 701ms/step - loss: 0.0465 - acc: 0.9898 - val_loss: 0.5487 - val_acc: 0.8657\n",
            "Epoch 15/100\n",
            "69/69 [==============================] - 49s 708ms/step - loss: 0.0375 - acc: 0.9935 - val_loss: 0.5732 - val_acc: 0.8547\n",
            "Epoch 16/100\n",
            "69/69 [==============================] - 49s 710ms/step - loss: 0.0332 - acc: 0.9946 - val_loss: 0.5859 - val_acc: 0.8655\n",
            "Epoch 17/100\n",
            "69/69 [==============================] - 50s 721ms/step - loss: 0.0319 - acc: 0.9947 - val_loss: 0.6226 - val_acc: 0.8603\n",
            "Epoch 18/100\n",
            "69/69 [==============================] - 49s 706ms/step - loss: 0.0529 - acc: 0.9870 - val_loss: 0.5038 - val_acc: 0.8600\n",
            "Epoch 19/100\n",
            "69/69 [==============================] - 49s 709ms/step - loss: 0.0475 - acc: 0.9890 - val_loss: 0.5643 - val_acc: 0.8593\n",
            "Epoch 20/100\n",
            "69/69 [==============================] - 49s 706ms/step - loss: 0.0357 - acc: 0.9930 - val_loss: 0.5719 - val_acc: 0.8627\n",
            "Epoch 21/100\n",
            "69/69 [==============================] - 49s 711ms/step - loss: 0.0301 - acc: 0.9949 - val_loss: 0.6087 - val_acc: 0.8639\n",
            "Epoch 22/100\n",
            "69/69 [==============================] - 49s 710ms/step - loss: 0.0313 - acc: 0.9935 - val_loss: 0.5831 - val_acc: 0.8581\n",
            "Epoch 23/100\n",
            "69/69 [==============================] - 49s 709ms/step - loss: 0.0287 - acc: 0.9946 - val_loss: 0.6192 - val_acc: 0.8608\n",
            "Epoch 24/100\n",
            "69/69 [==============================] - 49s 707ms/step - loss: 0.0257 - acc: 0.9958 - val_loss: 0.6145 - val_acc: 0.8588\n",
            "Epoch 25/100\n",
            "69/69 [==============================] - 49s 712ms/step - loss: 0.0250 - acc: 0.9957 - val_loss: 0.6295 - val_acc: 0.8568\n",
            "Epoch 26/100\n",
            "69/69 [==============================] - 49s 704ms/step - loss: 0.0253 - acc: 0.9952 - val_loss: 0.6406 - val_acc: 0.8561\n",
            "Epoch 27/100\n",
            "69/69 [==============================] - 48s 704ms/step - loss: 0.0228 - acc: 0.9959 - val_loss: 0.6537 - val_acc: 0.8572\n",
            "Epoch 28/100\n",
            "69/69 [==============================] - 49s 709ms/step - loss: 0.0418 - acc: 0.9889 - val_loss: 0.6070 - val_acc: 0.8444\n",
            "Epoch 29/100\n",
            "69/69 [==============================] - 49s 707ms/step - loss: 0.0349 - acc: 0.9915 - val_loss: 0.6142 - val_acc: 0.8597\n",
            "Epoch 30/100\n",
            "69/69 [==============================] - 49s 706ms/step - loss: 0.0202 - acc: 0.9961 - val_loss: 0.6376 - val_acc: 0.8543\n",
            "Epoch 31/100\n",
            "69/69 [==============================] - 48s 702ms/step - loss: 0.0161 - acc: 0.9975 - val_loss: 0.6692 - val_acc: 0.8531\n",
            "Epoch 32/100\n",
            "69/69 [==============================] - 49s 704ms/step - loss: 0.0134 - acc: 0.9980 - val_loss: 0.6895 - val_acc: 0.8540\n",
            "Epoch 33/100\n",
            "69/69 [==============================] - 49s 707ms/step - loss: 0.0119 - acc: 0.9983 - val_loss: 0.7121 - val_acc: 0.8551\n",
            "Epoch 34/100\n",
            "69/69 [==============================] - 49s 712ms/step - loss: 0.0110 - acc: 0.9985 - val_loss: 0.7289 - val_acc: 0.8568\n",
            "Epoch 35/100\n",
            "69/69 [==============================] - 49s 709ms/step - loss: 0.0111 - acc: 0.9982 - val_loss: 0.7274 - val_acc: 0.8436\n",
            "Epoch 36/100\n",
            "69/69 [==============================] - 49s 706ms/step - loss: 0.0325 - acc: 0.9900 - val_loss: 0.6342 - val_acc: 0.8535\n",
            "Epoch 37/100\n",
            "69/69 [==============================] - 48s 704ms/step - loss: 0.0155 - acc: 0.9965 - val_loss: 0.6907 - val_acc: 0.8493\n",
            "Epoch 38/100\n",
            "69/69 [==============================] - 48s 703ms/step - loss: 0.0095 - acc: 0.9984 - val_loss: 0.7442 - val_acc: 0.8528\n",
            "Epoch 39/100\n",
            "69/69 [==============================] - 49s 708ms/step - loss: 0.0087 - acc: 0.9986 - val_loss: 0.7572 - val_acc: 0.8461\n",
            "Epoch 40/100\n",
            "69/69 [==============================] - 49s 710ms/step - loss: 0.0086 - acc: 0.9983 - val_loss: 0.7782 - val_acc: 0.8535\n",
            "Epoch 41/100\n",
            "69/69 [==============================] - 49s 708ms/step - loss: 0.0066 - acc: 0.9991 - val_loss: 0.8023 - val_acc: 0.8563\n",
            "Epoch 42/100\n",
            "69/69 [==============================] - 49s 706ms/step - loss: 0.0083 - acc: 0.9986 - val_loss: 0.8040 - val_acc: 0.8517\n",
            "Epoch 43/100\n",
            "69/69 [==============================] - 49s 707ms/step - loss: 0.0117 - acc: 0.9972 - val_loss: 0.8725 - val_acc: 0.8497\n",
            "Epoch 44/100\n",
            "69/69 [==============================] - 48s 703ms/step - loss: 0.0121 - acc: 0.9973 - val_loss: 0.8074 - val_acc: 0.8596\n",
            "Epoch 45/100\n",
            "69/69 [==============================] - 49s 704ms/step - loss: 0.0170 - acc: 0.9954 - val_loss: 0.7758 - val_acc: 0.8577\n",
            "Epoch 46/100\n",
            "69/69 [==============================] - 48s 702ms/step - loss: 0.0108 - acc: 0.9977 - val_loss: 0.7510 - val_acc: 0.8595\n",
            "Epoch 47/100\n",
            "69/69 [==============================] - 49s 709ms/step - loss: 0.0120 - acc: 0.9974 - val_loss: 0.7784 - val_acc: 0.8571\n",
            "Epoch 48/100\n",
            "69/69 [==============================] - 49s 712ms/step - loss: 0.0122 - acc: 0.9967 - val_loss: 0.7988 - val_acc: 0.8569\n",
            "Epoch 49/100\n",
            "69/69 [==============================] - 49s 706ms/step - loss: 0.0067 - acc: 0.9990 - val_loss: 0.8263 - val_acc: 0.8501\n",
            "Epoch 50/100\n",
            "69/69 [==============================] - 49s 706ms/step - loss: 0.0055 - acc: 0.9993 - val_loss: 0.8435 - val_acc: 0.8480\n",
            "Epoch 51/100\n",
            "69/69 [==============================] - 49s 707ms/step - loss: 0.0045 - acc: 0.9995 - val_loss: 0.8626 - val_acc: 0.8557\n",
            "Epoch 52/100\n",
            "69/69 [==============================] - 49s 706ms/step - loss: 0.0044 - acc: 0.9995 - val_loss: 0.8660 - val_acc: 0.8549\n",
            "Epoch 53/100\n",
            "69/69 [==============================] - 49s 704ms/step - loss: 0.0044 - acc: 0.9995 - val_loss: 0.8753 - val_acc: 0.8556\n",
            "Epoch 54/100\n",
            "69/69 [==============================] - 48s 702ms/step - loss: 0.0043 - acc: 0.9995 - val_loss: 0.8795 - val_acc: 0.8533\n",
            "Epoch 55/100\n",
            "69/69 [==============================] - 49s 708ms/step - loss: 0.0043 - acc: 0.9995 - val_loss: 0.8862 - val_acc: 0.8532\n",
            "Epoch 56/100\n",
            "69/69 [==============================] - 49s 710ms/step - loss: 0.0041 - acc: 0.9995 - val_loss: 0.8710 - val_acc: 0.8512\n",
            "Epoch 57/100\n",
            "69/69 [==============================] - 49s 708ms/step - loss: 0.0036 - acc: 0.9996 - val_loss: 0.8926 - val_acc: 0.8544\n",
            "Epoch 58/100\n",
            "69/69 [==============================] - 49s 710ms/step - loss: 0.0035 - acc: 0.9996 - val_loss: 0.9012 - val_acc: 0.8557\n",
            "Epoch 59/100\n",
            "69/69 [==============================] - 49s 709ms/step - loss: 0.0035 - acc: 0.9996 - val_loss: 0.9066 - val_acc: 0.8557\n",
            "Epoch 60/100\n",
            "69/69 [==============================] - 49s 709ms/step - loss: 0.0031 - acc: 0.9997 - val_loss: 0.9183 - val_acc: 0.8556\n",
            "Epoch 61/100\n",
            "69/69 [==============================] - 49s 708ms/step - loss: 0.0031 - acc: 0.9997 - val_loss: 0.9311 - val_acc: 0.8560\n",
            "Epoch 62/100\n",
            "69/69 [==============================] - 48s 704ms/step - loss: 0.0030 - acc: 0.9997 - val_loss: 0.9383 - val_acc: 0.8557\n",
            "Epoch 63/100\n",
            "69/69 [==============================] - 48s 700ms/step - loss: 0.0030 - acc: 0.9997 - val_loss: 0.9441 - val_acc: 0.8536\n",
            "Epoch 64/100\n",
            "69/69 [==============================] - 48s 697ms/step - loss: 0.0026 - acc: 0.9997 - val_loss: 0.9598 - val_acc: 0.8547\n",
            "Epoch 65/100\n",
            "69/69 [==============================] - 48s 695ms/step - loss: 0.0540 - acc: 0.9824 - val_loss: 0.7043 - val_acc: 0.8521\n",
            "Epoch 66/100\n",
            "69/69 [==============================] - 48s 698ms/step - loss: 0.0187 - acc: 0.9943 - val_loss: 0.7078 - val_acc: 0.8504\n",
            "Epoch 67/100\n",
            "69/69 [==============================] - 48s 704ms/step - loss: 0.0081 - acc: 0.9983 - val_loss: 0.7941 - val_acc: 0.8468\n",
            "Epoch 68/100\n",
            "69/69 [==============================] - 49s 705ms/step - loss: 0.0115 - acc: 0.9969 - val_loss: 0.8155 - val_acc: 0.8393\n",
            "Epoch 69/100\n",
            "69/69 [==============================] - 49s 706ms/step - loss: 0.0123 - acc: 0.9969 - val_loss: 0.7631 - val_acc: 0.8500\n",
            "Epoch 70/100\n",
            "69/69 [==============================] - 48s 703ms/step - loss: 0.0058 - acc: 0.9985 - val_loss: 0.8745 - val_acc: 0.8519\n",
            "Epoch 71/100\n",
            "69/69 [==============================] - 49s 706ms/step - loss: 0.0058 - acc: 0.9984 - val_loss: 0.8222 - val_acc: 0.8460\n",
            "Epoch 72/100\n",
            "69/69 [==============================] - 49s 708ms/step - loss: 0.0076 - acc: 0.9982 - val_loss: 0.8451 - val_acc: 0.8435\n",
            "Epoch 73/100\n",
            "69/69 [==============================] - 49s 718ms/step - loss: 0.0066 - acc: 0.9983 - val_loss: 0.8456 - val_acc: 0.8404\n",
            "Epoch 74/100\n",
            "69/69 [==============================] - 50s 722ms/step - loss: 0.0038 - acc: 0.9994 - val_loss: 0.8645 - val_acc: 0.8476\n",
            "Epoch 75/100\n",
            "69/69 [==============================] - 49s 712ms/step - loss: 0.0024 - acc: 0.9998 - val_loss: 0.9031 - val_acc: 0.8520\n",
            "Epoch 76/100\n",
            "69/69 [==============================] - 49s 715ms/step - loss: 0.0022 - acc: 0.9998 - val_loss: 0.9172 - val_acc: 0.8523\n",
            "Epoch 77/100\n",
            "69/69 [==============================] - 50s 723ms/step - loss: 0.0022 - acc: 0.9998 - val_loss: 0.9310 - val_acc: 0.8504\n",
            "Epoch 78/100\n",
            "69/69 [==============================] - 50s 730ms/step - loss: 0.0022 - acc: 0.9998 - val_loss: 0.9408 - val_acc: 0.8503\n",
            "Epoch 79/100\n",
            "69/69 [==============================] - 50s 720ms/step - loss: 0.0022 - acc: 0.9998 - val_loss: 0.9502 - val_acc: 0.8497\n",
            "Epoch 80/100\n",
            "69/69 [==============================] - 49s 709ms/step - loss: 0.0021 - acc: 0.9998 - val_loss: 0.9575 - val_acc: 0.8512\n",
            "Epoch 81/100\n",
            "69/69 [==============================] - 49s 710ms/step - loss: 0.0021 - acc: 0.9998 - val_loss: 0.9644 - val_acc: 0.8500\n",
            "Epoch 82/100\n",
            "69/69 [==============================] - 49s 718ms/step - loss: 0.0021 - acc: 0.9998 - val_loss: 0.9702 - val_acc: 0.8497\n",
            "Epoch 83/100\n",
            "69/69 [==============================] - 49s 714ms/step - loss: 0.0021 - acc: 0.9998 - val_loss: 0.9780 - val_acc: 0.8503\n",
            "Epoch 84/100\n",
            "69/69 [==============================] - 50s 725ms/step - loss: 0.0021 - acc: 0.9998 - val_loss: 0.9793 - val_acc: 0.8500\n",
            "Epoch 85/100\n",
            "69/69 [==============================] - 49s 712ms/step - loss: 0.0021 - acc: 0.9998 - val_loss: 0.9835 - val_acc: 0.8493\n",
            "Epoch 86/100\n",
            "69/69 [==============================] - 50s 726ms/step - loss: 0.0020 - acc: 0.9998 - val_loss: 0.9857 - val_acc: 0.8495\n",
            "Epoch 87/100\n",
            "69/69 [==============================] - 49s 714ms/step - loss: 0.0020 - acc: 0.9998 - val_loss: 0.9834 - val_acc: 0.8507\n",
            "Epoch 88/100\n",
            "69/69 [==============================] - 49s 714ms/step - loss: 0.0046 - acc: 0.9991 - val_loss: 0.9813 - val_acc: 0.8505\n",
            "Epoch 89/100\n",
            "69/69 [==============================] - 50s 726ms/step - loss: 0.0139 - acc: 0.9958 - val_loss: 0.8868 - val_acc: 0.8472\n",
            "Epoch 90/100\n",
            "69/69 [==============================] - 49s 715ms/step - loss: 0.0092 - acc: 0.9974 - val_loss: 0.8746 - val_acc: 0.8519\n",
            "Epoch 91/100\n",
            "69/69 [==============================] - 50s 720ms/step - loss: 0.0034 - acc: 0.9994 - val_loss: 0.9248 - val_acc: 0.8403\n",
            "Epoch 92/100\n",
            "69/69 [==============================] - 49s 714ms/step - loss: 0.0160 - acc: 0.9955 - val_loss: 1.0296 - val_acc: 0.8269\n",
            "Epoch 93/100\n",
            "69/69 [==============================] - 49s 715ms/step - loss: 0.0174 - acc: 0.9945 - val_loss: 0.8928 - val_acc: 0.8509\n",
            "Epoch 94/100\n",
            "69/69 [==============================] - 50s 723ms/step - loss: 0.0150 - acc: 0.9954 - val_loss: 0.7743 - val_acc: 0.8488\n",
            "Epoch 95/100\n",
            "69/69 [==============================] - 50s 720ms/step - loss: 0.0041 - acc: 0.9991 - val_loss: 0.8881 - val_acc: 0.8525\n",
            "Epoch 96/100\n",
            "69/69 [==============================] - 50s 723ms/step - loss: 0.0016 - acc: 0.9998 - val_loss: 0.9014 - val_acc: 0.8527\n",
            "Epoch 97/100\n",
            "69/69 [==============================] - 49s 717ms/step - loss: 0.0013 - acc: 0.9999 - val_loss: 0.9253 - val_acc: 0.8540\n",
            "Epoch 98/100\n",
            "69/69 [==============================] - 49s 716ms/step - loss: 0.0013 - acc: 0.9999 - val_loss: 0.9424 - val_acc: 0.8543\n",
            "Epoch 99/100\n",
            "69/69 [==============================] - 50s 720ms/step - loss: 0.0013 - acc: 0.9999 - val_loss: 0.9570 - val_acc: 0.8545\n",
            "Epoch 100/100\n",
            "69/69 [==============================] - 49s 711ms/step - loss: 0.0012 - acc: 0.9999 - val_loss: 0.9622 - val_acc: 0.8540\n"
          ],
          "name": "stdout"
        }
      ]
    },
    {
      "cell_type": "markdown",
      "metadata": {
        "id": "GKpFX8J4VTYK"
      },
      "source": [
        "# evaluation"
      ]
    },
    {
      "cell_type": "code",
      "metadata": {
        "id": "aDYp4zeYSSG_",
        "colab": {
          "base_uri": "https://localhost:8080/"
        },
        "outputId": "c14701ad-0569-4cc8-ff78-ca8a1e4a2e09"
      },
      "source": [
        "model.evaluate(pad_x_train, y_train)"
      ],
      "execution_count": 23,
      "outputs": [
        {
          "output_type": "stream",
          "text": [
            "782/782 [==============================] - 48s 61ms/step - loss: 0.2895 - acc: 0.9561\n"
          ],
          "name": "stdout"
        },
        {
          "output_type": "execute_result",
          "data": {
            "text/plain": [
              "[0.28949877619743347, 0.9561200141906738]"
            ]
          },
          "metadata": {
            "tags": []
          },
          "execution_count": 23
        }
      ]
    },
    {
      "cell_type": "code",
      "metadata": {
        "id": "2SNqe_oHVlC8",
        "colab": {
          "base_uri": "https://localhost:8080/"
        },
        "outputId": "7266cf39-794d-4a15-a5fb-24176cb818e6"
      },
      "source": [
        "#len(x_test[20])\n",
        "pad_x_test = tf.keras.preprocessing.sequence.pad_sequences(x_test, maxlen=500)\n",
        "len(x_test[20]), len(pad_x_test[20])"
      ],
      "execution_count": 25,
      "outputs": [
        {
          "output_type": "execute_result",
          "data": {
            "text/plain": [
              "(230, 500)"
            ]
          },
          "metadata": {
            "tags": []
          },
          "execution_count": 25
        }
      ]
    },
    {
      "cell_type": "code",
      "metadata": {
        "id": "d2OAKU_jV4UK",
        "colab": {
          "base_uri": "https://localhost:8080/"
        },
        "outputId": "26a2d7d2-c90d-4913-f118-07017d7cb095"
      },
      "source": [
        "model.evaluate(pad_x_test)"
      ],
      "execution_count": 26,
      "outputs": [
        {
          "output_type": "stream",
          "text": [
            "782/782 [==============================] - 2s 2ms/step - loss: 0.0000e+00 - acc: 0.0000e+00\n"
          ],
          "name": "stdout"
        },
        {
          "output_type": "execute_result",
          "data": {
            "text/plain": [
              "[0.0, 0.0]"
            ]
          },
          "metadata": {
            "tags": []
          },
          "execution_count": 26
        }
      ]
    },
    {
      "cell_type": "code",
      "metadata": {
        "id": "FDKqi0RJWsjR"
      },
      "source": [
        ""
      ],
      "execution_count": null,
      "outputs": []
    }
  ]
}